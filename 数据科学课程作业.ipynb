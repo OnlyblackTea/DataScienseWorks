{
  "nbformat": 4,
  "nbformat_minor": 0,
  "metadata": {
    "colab": {
      "provenance": []
    },
    "kernelspec": {
      "name": "python3",
      "display_name": "Python 3"
    },
    "language_info": {
      "name": "python"
    }
  },
  "cells": [
    {
      "cell_type": "markdown",
      "metadata": {
        "id": "4fP2lxGFgUDd"
      },
      "source": [
        "\n",
        "# 引入pandas库并测试版本\n",
        "---\n",
        "\n"
      ]
    },
    {
      "cell_type": "code",
      "metadata": {
        "colab": {
          "base_uri": "https://localhost:8080/",
          "height": 35
        },
        "id": "utNeOxNWeZnq",
        "outputId": "72e56ac2-d002-4280-8d89-dd1b2351248d"
      },
      "source": [
        "import pandas as pd\n",
        "pd.__version__"
      ],
      "execution_count": null,
      "outputs": [
        {
          "output_type": "execute_result",
          "data": {
            "application/vnd.google.colaboratory.intrinsic+json": {
              "type": "string"
            },
            "text/plain": [
              "'1.1.5'"
            ]
          },
          "metadata": {
            "tags": []
          },
          "execution_count": 1
        }
      ]
    },
    {
      "cell_type": "markdown",
      "metadata": {
        "id": "_VCErKQZgSis"
      },
      "source": [
        "**读入数据信息**\n",
        "\n",
        "---\n",
        "\n",
        "使用iloc选择所需要的列，使用dropna删除含有空值的行"
      ]
    },
    {
      "cell_type": "code",
      "metadata": {
        "colab": {
          "base_uri": "https://localhost:8080/",
          "height": 450
        },
        "id": "iAiG4B9ngeC7",
        "outputId": "8a306fa3-3a44-4d0b-84d9-220c8fe129f5"
      },
      "source": [
        "SH_Frame = pd.read_csv('./drive/MyDrive/600009.SH.CSV',encoding='gb2312')\n",
        "SH_Frame = SH_Frame.iloc[:,[0,1,2,4,7,9]].dropna()\n",
        "SH_Frame['日期索引'] =  pd.to_datetime(SH_Frame['日期']) #新增日期索引列\n",
        "SH_Frame.set_index('日期索引',inplace = True) #将日期索引列作为目录\n",
        "SH_Frame"
      ],
      "execution_count": null,
      "outputs": [
        {
          "output_type": "execute_result",
          "data": {
            "text/html": [
              "<div>\n",
              "<style scoped>\n",
              "    .dataframe tbody tr th:only-of-type {\n",
              "        vertical-align: middle;\n",
              "    }\n",
              "\n",
              "    .dataframe tbody tr th {\n",
              "        vertical-align: top;\n",
              "    }\n",
              "\n",
              "    .dataframe thead th {\n",
              "        text-align: right;\n",
              "    }\n",
              "</style>\n",
              "<table border=\"1\" class=\"dataframe\">\n",
              "  <thead>\n",
              "    <tr style=\"text-align: right;\">\n",
              "      <th></th>\n",
              "      <th>代码</th>\n",
              "      <th>简称</th>\n",
              "      <th>日期</th>\n",
              "      <th>开盘价(元)</th>\n",
              "      <th>收盘价(元)</th>\n",
              "      <th>成交金额(元)</th>\n",
              "    </tr>\n",
              "    <tr>\n",
              "      <th>日期索引</th>\n",
              "      <th></th>\n",
              "      <th></th>\n",
              "      <th></th>\n",
              "      <th></th>\n",
              "      <th></th>\n",
              "      <th></th>\n",
              "    </tr>\n",
              "  </thead>\n",
              "  <tbody>\n",
              "    <tr>\n",
              "      <th>1998-02-18</th>\n",
              "      <td>600009.SH</td>\n",
              "      <td>上海机场</td>\n",
              "      <td>1998-02-18</td>\n",
              "      <td>3.4390</td>\n",
              "      <td>3.1123</td>\n",
              "      <td>1.267013e+09</td>\n",
              "    </tr>\n",
              "    <tr>\n",
              "      <th>1998-02-19</th>\n",
              "      <td>600009.SH</td>\n",
              "      <td>上海机场</td>\n",
              "      <td>1998-02-19</td>\n",
              "      <td>3.0917</td>\n",
              "      <td>3.0263</td>\n",
              "      <td>2.721070e+08</td>\n",
              "    </tr>\n",
              "    <tr>\n",
              "      <th>1998-02-20</th>\n",
              "      <td>600009.SH</td>\n",
              "      <td>上海机场</td>\n",
              "      <td>1998-02-20</td>\n",
              "      <td>3.0263</td>\n",
              "      <td>3.0538</td>\n",
              "      <td>1.380111e+08</td>\n",
              "    </tr>\n",
              "    <tr>\n",
              "      <th>1998-02-23</th>\n",
              "      <td>600009.SH</td>\n",
              "      <td>上海机场</td>\n",
              "      <td>1998-02-23</td>\n",
              "      <td>3.0401</td>\n",
              "      <td>3.1398</td>\n",
              "      <td>1.616534e+08</td>\n",
              "    </tr>\n",
              "    <tr>\n",
              "      <th>1998-02-24</th>\n",
              "      <td>600009.SH</td>\n",
              "      <td>上海机场</td>\n",
              "      <td>1998-02-24</td>\n",
              "      <td>3.1536</td>\n",
              "      <td>3.0573</td>\n",
              "      <td>1.029877e+08</td>\n",
              "    </tr>\n",
              "    <tr>\n",
              "      <th>...</th>\n",
              "      <td>...</td>\n",
              "      <td>...</td>\n",
              "      <td>...</td>\n",
              "      <td>...</td>\n",
              "      <td>...</td>\n",
              "      <td>...</td>\n",
              "    </tr>\n",
              "    <tr>\n",
              "      <th>2016-06-02</th>\n",
              "      <td>600009.SH</td>\n",
              "      <td>上海机场</td>\n",
              "      <td>2016-06-02</td>\n",
              "      <td>27.6500</td>\n",
              "      <td>27.5800</td>\n",
              "      <td>7.271235e+07</td>\n",
              "    </tr>\n",
              "    <tr>\n",
              "      <th>2016-06-03</th>\n",
              "      <td>600009.SH</td>\n",
              "      <td>上海机场</td>\n",
              "      <td>2016-06-03</td>\n",
              "      <td>27.5600</td>\n",
              "      <td>27.7900</td>\n",
              "      <td>1.201543e+08</td>\n",
              "    </tr>\n",
              "    <tr>\n",
              "      <th>2016-06-06</th>\n",
              "      <td>600009.SH</td>\n",
              "      <td>上海机场</td>\n",
              "      <td>2016-06-06</td>\n",
              "      <td>27.7900</td>\n",
              "      <td>27.7600</td>\n",
              "      <td>1.082610e+08</td>\n",
              "    </tr>\n",
              "    <tr>\n",
              "      <th>2016-06-07</th>\n",
              "      <td>600009.SH</td>\n",
              "      <td>上海机场</td>\n",
              "      <td>2016-06-07</td>\n",
              "      <td>27.7600</td>\n",
              "      <td>27.5000</td>\n",
              "      <td>1.282020e+08</td>\n",
              "    </tr>\n",
              "    <tr>\n",
              "      <th>2016-06-08</th>\n",
              "      <td>600009.SH</td>\n",
              "      <td>上海机场</td>\n",
              "      <td>2016-06-08</td>\n",
              "      <td>27.4400</td>\n",
              "      <td>27.5500</td>\n",
              "      <td>1.086822e+08</td>\n",
              "    </tr>\n",
              "  </tbody>\n",
              "</table>\n",
              "<p>4393 rows × 6 columns</p>\n",
              "</div>"
            ],
            "text/plain": [
              "                   代码    简称          日期   开盘价(元)   收盘价(元)       成交金额(元)\n",
              "日期索引                                                                   \n",
              "1998-02-18  600009.SH  上海机场  1998-02-18   3.4390   3.1123  1.267013e+09\n",
              "1998-02-19  600009.SH  上海机场  1998-02-19   3.0917   3.0263  2.721070e+08\n",
              "1998-02-20  600009.SH  上海机场  1998-02-20   3.0263   3.0538  1.380111e+08\n",
              "1998-02-23  600009.SH  上海机场  1998-02-23   3.0401   3.1398  1.616534e+08\n",
              "1998-02-24  600009.SH  上海机场  1998-02-24   3.1536   3.0573  1.029877e+08\n",
              "...               ...   ...         ...      ...      ...           ...\n",
              "2016-06-02  600009.SH  上海机场  2016-06-02  27.6500  27.5800  7.271235e+07\n",
              "2016-06-03  600009.SH  上海机场  2016-06-03  27.5600  27.7900  1.201543e+08\n",
              "2016-06-06  600009.SH  上海机场  2016-06-06  27.7900  27.7600  1.082610e+08\n",
              "2016-06-07  600009.SH  上海机场  2016-06-07  27.7600  27.5000  1.282020e+08\n",
              "2016-06-08  600009.SH  上海机场  2016-06-08  27.4400  27.5500  1.086822e+08\n",
              "\n",
              "[4393 rows x 6 columns]"
            ]
          },
          "metadata": {
            "tags": []
          },
          "execution_count": 2
        }
      ]
    },
    {
      "cell_type": "markdown",
      "metadata": {
        "id": "W-wxGkYEon6i"
      },
      "source": [
        "**对数据进行汇总**\n",
        "\n",
        "---\n",
        "\n",
        "获得每个月（按自然月）的平均开盘价（元）和平均收盘价（元），总成交金额（元）。\n",
        "\n",
        "此时获得数据：代码、简称，月份，平均开盘价，平均收盘价，总成交金额。"
      ]
    },
    {
      "cell_type": "code",
      "metadata": {
        "colab": {
          "base_uri": "https://localhost:8080/"
        },
        "id": "EsRRRZE_952O",
        "outputId": "1a7efbfa-892e-4b5f-c364-37d1c5aedaf8"
      },
      "source": [
        "ticks = SH_Frame.iloc[:]\n",
        "sums = ticks.resample('M').sum()\n",
        "sums.rename(columns={\"开盘价(元)\":\"总开盘价(元)\", \"收盘价(元)\":\"总收盘价(元)\", \"成交金额(元)\":\"总成交金额(元)\"},inplace=True)\n",
        "means = ticks.resample('M').mean()\n",
        "means.rename(columns={\"开盘价(元)\":\"平均开盘价(元)\", \"收盘价(元)\":\"平均收盘价(元)\", \"成交金额(元)\":\"平均成交金额(元)\"},inplace=True)\n",
        "print(means.head())\n",
        "print(sums.head())"
      ],
      "execution_count": null,
      "outputs": [
        {
          "output_type": "stream",
          "text": [
            "            平均开盘价(元)  平均收盘价(元)     平均成交金额(元)\n",
            "日期索引                                        \n",
            "1998-02-28  3.126062  3.081350  2.644211e+08\n",
            "1998-03-31  3.319895  3.331632  1.113967e+08\n",
            "1998-04-30  3.429950  3.426977  7.394176e+07\n",
            "1998-05-31  3.337050  3.330525  2.972156e+07\n",
            "1998-06-30  3.287232  3.278009  3.577311e+07\n",
            "            总开盘价(元)  总收盘价(元)      总成交金额(元)\n",
            "日期索引                                      \n",
            "1998-02-28  25.0085  24.6508  2.115369e+09\n",
            "1998-03-31  73.0377  73.2959  2.450726e+09\n",
            "1998-04-30  75.4589  75.3935  1.626719e+09\n",
            "1998-05-31  66.7410  66.6105  5.944312e+08\n",
            "1998-06-30  72.3191  72.1162  7.870084e+08\n"
          ],
          "name": "stdout"
        }
      ]
    },
    {
      "cell_type": "code",
      "metadata": {
        "colab": {
          "base_uri": "https://localhost:8080/",
          "height": 1000
        },
        "id": "M4F5-1xQ_9TT",
        "outputId": "5deb0170-f7c6-489a-ba6b-f53e90528472"
      },
      "source": [
        "import matplotlib.pyplot as plt\n",
        "plt.subplot(2,2,1)\n",
        "means.iloc[:,0].plot(title='平均开盘价随时间变化')\n",
        "plt.xlabel('日期')\n",
        "plt.ylabel('股价')\n",
        "plt.subplot(2,2,2)\n",
        "means.iloc[:,1].plot(title='平均收盘价随时间变化')\n",
        "plt.xlabel('日期')\n",
        "plt.ylabel('股价')\n",
        "plt.subplot(2,2,3)\n",
        "sums.iloc[:,2].plot(title='总成交金额随时间变化')\n",
        "plt.xlabel('日期')\n",
        "plt.ylabel('金额')"
      ],
      "execution_count": null,
      "outputs": [
        {
          "output_type": "execute_result",
          "data": {
            "text/plain": [
              "Text(0, 0.5, '金额')"
            ]
          },
          "metadata": {
            "tags": []
          },
          "execution_count": 4
        },
        {
          "output_type": "stream",
          "text": [
            "/usr/local/lib/python3.7/dist-packages/matplotlib/backends/backend_agg.py:214: RuntimeWarning: Glyph 24179 missing from current font.\n",
            "  font.set_text(s, 0.0, flags=flags)\n",
            "/usr/local/lib/python3.7/dist-packages/matplotlib/backends/backend_agg.py:214: RuntimeWarning: Glyph 22343 missing from current font.\n",
            "  font.set_text(s, 0.0, flags=flags)\n",
            "/usr/local/lib/python3.7/dist-packages/matplotlib/backends/backend_agg.py:214: RuntimeWarning: Glyph 24320 missing from current font.\n",
            "  font.set_text(s, 0.0, flags=flags)\n",
            "/usr/local/lib/python3.7/dist-packages/matplotlib/backends/backend_agg.py:214: RuntimeWarning: Glyph 30424 missing from current font.\n",
            "  font.set_text(s, 0.0, flags=flags)\n",
            "/usr/local/lib/python3.7/dist-packages/matplotlib/backends/backend_agg.py:214: RuntimeWarning: Glyph 20215 missing from current font.\n",
            "  font.set_text(s, 0.0, flags=flags)\n",
            "/usr/local/lib/python3.7/dist-packages/matplotlib/backends/backend_agg.py:214: RuntimeWarning: Glyph 38543 missing from current font.\n",
            "  font.set_text(s, 0.0, flags=flags)\n",
            "/usr/local/lib/python3.7/dist-packages/matplotlib/backends/backend_agg.py:214: RuntimeWarning: Glyph 26102 missing from current font.\n",
            "  font.set_text(s, 0.0, flags=flags)\n",
            "/usr/local/lib/python3.7/dist-packages/matplotlib/backends/backend_agg.py:214: RuntimeWarning: Glyph 38388 missing from current font.\n",
            "  font.set_text(s, 0.0, flags=flags)\n",
            "/usr/local/lib/python3.7/dist-packages/matplotlib/backends/backend_agg.py:214: RuntimeWarning: Glyph 21464 missing from current font.\n",
            "  font.set_text(s, 0.0, flags=flags)\n",
            "/usr/local/lib/python3.7/dist-packages/matplotlib/backends/backend_agg.py:214: RuntimeWarning: Glyph 21270 missing from current font.\n",
            "  font.set_text(s, 0.0, flags=flags)\n",
            "/usr/local/lib/python3.7/dist-packages/matplotlib/backends/backend_agg.py:214: RuntimeWarning: Glyph 26085 missing from current font.\n",
            "  font.set_text(s, 0.0, flags=flags)\n",
            "/usr/local/lib/python3.7/dist-packages/matplotlib/backends/backend_agg.py:214: RuntimeWarning: Glyph 26399 missing from current font.\n",
            "  font.set_text(s, 0.0, flags=flags)\n",
            "/usr/local/lib/python3.7/dist-packages/matplotlib/backends/backend_agg.py:183: RuntimeWarning: Glyph 26085 missing from current font.\n",
            "  font.set_text(s, 0, flags=flags)\n",
            "/usr/local/lib/python3.7/dist-packages/matplotlib/backends/backend_agg.py:183: RuntimeWarning: Glyph 26399 missing from current font.\n",
            "  font.set_text(s, 0, flags=flags)\n",
            "/usr/local/lib/python3.7/dist-packages/matplotlib/backends/backend_agg.py:214: RuntimeWarning: Glyph 32929 missing from current font.\n",
            "  font.set_text(s, 0.0, flags=flags)\n",
            "/usr/local/lib/python3.7/dist-packages/matplotlib/backends/backend_agg.py:183: RuntimeWarning: Glyph 32929 missing from current font.\n",
            "  font.set_text(s, 0, flags=flags)\n",
            "/usr/local/lib/python3.7/dist-packages/matplotlib/backends/backend_agg.py:183: RuntimeWarning: Glyph 20215 missing from current font.\n",
            "  font.set_text(s, 0, flags=flags)\n",
            "/usr/local/lib/python3.7/dist-packages/matplotlib/backends/backend_agg.py:183: RuntimeWarning: Glyph 24179 missing from current font.\n",
            "  font.set_text(s, 0, flags=flags)\n",
            "/usr/local/lib/python3.7/dist-packages/matplotlib/backends/backend_agg.py:183: RuntimeWarning: Glyph 22343 missing from current font.\n",
            "  font.set_text(s, 0, flags=flags)\n",
            "/usr/local/lib/python3.7/dist-packages/matplotlib/backends/backend_agg.py:183: RuntimeWarning: Glyph 24320 missing from current font.\n",
            "  font.set_text(s, 0, flags=flags)\n",
            "/usr/local/lib/python3.7/dist-packages/matplotlib/backends/backend_agg.py:183: RuntimeWarning: Glyph 30424 missing from current font.\n",
            "  font.set_text(s, 0, flags=flags)\n",
            "/usr/local/lib/python3.7/dist-packages/matplotlib/backends/backend_agg.py:183: RuntimeWarning: Glyph 38543 missing from current font.\n",
            "  font.set_text(s, 0, flags=flags)\n",
            "/usr/local/lib/python3.7/dist-packages/matplotlib/backends/backend_agg.py:183: RuntimeWarning: Glyph 26102 missing from current font.\n",
            "  font.set_text(s, 0, flags=flags)\n",
            "/usr/local/lib/python3.7/dist-packages/matplotlib/backends/backend_agg.py:183: RuntimeWarning: Glyph 38388 missing from current font.\n",
            "  font.set_text(s, 0, flags=flags)\n",
            "/usr/local/lib/python3.7/dist-packages/matplotlib/backends/backend_agg.py:183: RuntimeWarning: Glyph 21464 missing from current font.\n",
            "  font.set_text(s, 0, flags=flags)\n",
            "/usr/local/lib/python3.7/dist-packages/matplotlib/backends/backend_agg.py:183: RuntimeWarning: Glyph 21270 missing from current font.\n",
            "  font.set_text(s, 0, flags=flags)\n",
            "/usr/local/lib/python3.7/dist-packages/matplotlib/backends/backend_agg.py:214: RuntimeWarning: Glyph 25910 missing from current font.\n",
            "  font.set_text(s, 0.0, flags=flags)\n",
            "/usr/local/lib/python3.7/dist-packages/matplotlib/backends/backend_agg.py:183: RuntimeWarning: Glyph 25910 missing from current font.\n",
            "  font.set_text(s, 0, flags=flags)\n",
            "/usr/local/lib/python3.7/dist-packages/matplotlib/backends/backend_agg.py:214: RuntimeWarning: Glyph 24635 missing from current font.\n",
            "  font.set_text(s, 0.0, flags=flags)\n",
            "/usr/local/lib/python3.7/dist-packages/matplotlib/backends/backend_agg.py:214: RuntimeWarning: Glyph 25104 missing from current font.\n",
            "  font.set_text(s, 0.0, flags=flags)\n",
            "/usr/local/lib/python3.7/dist-packages/matplotlib/backends/backend_agg.py:214: RuntimeWarning: Glyph 20132 missing from current font.\n",
            "  font.set_text(s, 0.0, flags=flags)\n",
            "/usr/local/lib/python3.7/dist-packages/matplotlib/backends/backend_agg.py:214: RuntimeWarning: Glyph 37329 missing from current font.\n",
            "  font.set_text(s, 0.0, flags=flags)\n",
            "/usr/local/lib/python3.7/dist-packages/matplotlib/backends/backend_agg.py:214: RuntimeWarning: Glyph 39069 missing from current font.\n",
            "  font.set_text(s, 0.0, flags=flags)\n",
            "/usr/local/lib/python3.7/dist-packages/matplotlib/backends/backend_agg.py:183: RuntimeWarning: Glyph 37329 missing from current font.\n",
            "  font.set_text(s, 0, flags=flags)\n",
            "/usr/local/lib/python3.7/dist-packages/matplotlib/backends/backend_agg.py:183: RuntimeWarning: Glyph 39069 missing from current font.\n",
            "  font.set_text(s, 0, flags=flags)\n",
            "/usr/local/lib/python3.7/dist-packages/matplotlib/backends/backend_agg.py:183: RuntimeWarning: Glyph 24635 missing from current font.\n",
            "  font.set_text(s, 0, flags=flags)\n",
            "/usr/local/lib/python3.7/dist-packages/matplotlib/backends/backend_agg.py:183: RuntimeWarning: Glyph 25104 missing from current font.\n",
            "  font.set_text(s, 0, flags=flags)\n",
            "/usr/local/lib/python3.7/dist-packages/matplotlib/backends/backend_agg.py:183: RuntimeWarning: Glyph 20132 missing from current font.\n",
            "  font.set_text(s, 0, flags=flags)\n"
          ],
          "name": "stderr"
        },
        {
          "output_type": "display_data",
          "data": {
            "image/png": "[encoded data removed]",
            "text/plain": [
              "<Figure size 432x288 with 3 Axes>"
            ]
          },
          "metadata": {
            "tags": [],
            "needs_background": "light"
          }
        }
      ]
    },
    {
      "cell_type": "markdown",
      "metadata": {
        "id": "9llfcFeRBJ81"
      },
      "source": [
        "**回归分析：**"
      ]
    },
    {
      "cell_type": "code",
      "metadata": {
        "colab": {
          "base_uri": "https://localhost:8080/",
          "height": 294
        },
        "id": "T9WeFJF6Bmzs",
        "outputId": "e1beedd8-8b36-46b2-851a-2ac22df03c50"
      },
      "source": [
        "import pandas as pd\n",
        "import numpy as np\n",
        "from sklearn.linear_model import LinearRegression, BayesianRidge, ElasticNet\n",
        "from sklearn.svm import SVR\n",
        "from sklearn.ensemble.gradient_boosting import GradientBoostingRegressor\n",
        "from sklearn.model_selection import cross_val_score\n",
        "from sklearn.metrics import explained_variance_score, mean_absolute_error, mean_squared_error, r2_score\n",
        "import seaborn as sns\n",
        "import matplotlib.pyplot as plt\n",
        "from matplotlib import font_manager as fm, rcParams\n",
        "from sklearn.preprocessing import MinMaxScaler\n",
        "data2_frame = pd.read_csv('./drive/MyDrive/data2.csv',encoding='gb2312',header=None,names=\n",
        "    ['销售日期','销售价格','卧室数','浴室数','房屋面积','停车面积','楼层数','房屋评分','建筑面积','地下室面积','建筑年份','修复年份','纬度','经度']\n",
        ")\n",
        "plt.rcParams['font.sans-serif'] = ['KaiTi', 'SimHei', 'FangSong']  # 汉字字体,优先使用楷体，如果找不到楷体，则使用黑体\n",
        "plt.rcParams['font.size'] = 12  # 字体大小\n",
        "plt.rcParams['axes.unicode_minus'] = False  # 正常显示负号\n",
        "\n",
        "#print(x)\n",
        "#data2_frame.head()\n",
        "\n",
        "#sns.set(style='whitegrid', context='notebook')\n",
        "#sns.pairplot(data2_frame, size=2)\n",
        "#plt.savefig('x.png')\n",
        "#corr = data2_frame.corr()\n",
        "#sns.heatmap(corr, cmap='GnBu_r', square=True, annot=False)\n",
        "#plt.savefig('xx.png')\n",
        "\n",
        "data2_frame.head()"
      ],
      "execution_count": null,
      "outputs": [
        {
          "output_type": "stream",
          "text": [
            "/usr/local/lib/python3.7/dist-packages/sklearn/utils/deprecation.py:144: FutureWarning: The sklearn.ensemble.gradient_boosting module is  deprecated in version 0.22 and will be removed in version 0.24. The corresponding classes / functions should instead be imported from sklearn.ensemble. Anything that cannot be imported from sklearn.ensemble is now part of the private API.\n",
            "  warnings.warn(message, FutureWarning)\n"
          ],
          "name": "stderr"
        },
        {
          "output_type": "execute_result",
          "data": {
            "text/html": [
              "<div>\n",
              "<style scoped>\n",
              "    .dataframe tbody tr th:only-of-type {\n",
              "        vertical-align: middle;\n",
              "    }\n",
              "\n",
              "    .dataframe tbody tr th {\n",
              "        vertical-align: top;\n",
              "    }\n",
              "\n",
              "    .dataframe thead th {\n",
              "        text-align: right;\n",
              "    }\n",
              "</style>\n",
              "<table border=\"1\" class=\"dataframe\">\n",
              "  <thead>\n",
              "    <tr style=\"text-align: right;\">\n",
              "      <th></th>\n",
              "      <th>销售日期</th>\n",
              "      <th>销售价格</th>\n",
              "      <th>卧室数</th>\n",
              "      <th>浴室数</th>\n",
              "      <th>房屋面积</th>\n",
              "      <th>停车面积</th>\n",
              "      <th>楼层数</th>\n",
              "      <th>房屋评分</th>\n",
              "      <th>建筑面积</th>\n",
              "      <th>地下室面积</th>\n",
              "      <th>建筑年份</th>\n",
              "      <th>修复年份</th>\n",
              "      <th>纬度</th>\n",
              "      <th>经度</th>\n",
              "    </tr>\n",
              "  </thead>\n",
              "  <tbody>\n",
              "    <tr>\n",
              "      <th>0</th>\n",
              "      <td>20150302</td>\n",
              "      <td>545000</td>\n",
              "      <td>3</td>\n",
              "      <td>2.25</td>\n",
              "      <td>1670</td>\n",
              "      <td>6240</td>\n",
              "      <td>1.0</td>\n",
              "      <td>8</td>\n",
              "      <td>1240</td>\n",
              "      <td>430</td>\n",
              "      <td>1974</td>\n",
              "      <td>0</td>\n",
              "      <td>47.6413</td>\n",
              "      <td>-122.113</td>\n",
              "    </tr>\n",
              "    <tr>\n",
              "      <th>1</th>\n",
              "      <td>20150211</td>\n",
              "      <td>785000</td>\n",
              "      <td>4</td>\n",
              "      <td>2.50</td>\n",
              "      <td>3300</td>\n",
              "      <td>10514</td>\n",
              "      <td>2.0</td>\n",
              "      <td>10</td>\n",
              "      <td>3300</td>\n",
              "      <td>0</td>\n",
              "      <td>1984</td>\n",
              "      <td>0</td>\n",
              "      <td>47.6323</td>\n",
              "      <td>-122.036</td>\n",
              "    </tr>\n",
              "    <tr>\n",
              "      <th>2</th>\n",
              "      <td>20150107</td>\n",
              "      <td>765000</td>\n",
              "      <td>3</td>\n",
              "      <td>3.25</td>\n",
              "      <td>3190</td>\n",
              "      <td>5283</td>\n",
              "      <td>2.0</td>\n",
              "      <td>9</td>\n",
              "      <td>3190</td>\n",
              "      <td>0</td>\n",
              "      <td>2007</td>\n",
              "      <td>0</td>\n",
              "      <td>47.5534</td>\n",
              "      <td>-122.002</td>\n",
              "    </tr>\n",
              "    <tr>\n",
              "      <th>3</th>\n",
              "      <td>20141103</td>\n",
              "      <td>720000</td>\n",
              "      <td>5</td>\n",
              "      <td>2.50</td>\n",
              "      <td>2900</td>\n",
              "      <td>9525</td>\n",
              "      <td>2.0</td>\n",
              "      <td>9</td>\n",
              "      <td>2900</td>\n",
              "      <td>0</td>\n",
              "      <td>1989</td>\n",
              "      <td>0</td>\n",
              "      <td>47.5442</td>\n",
              "      <td>-122.138</td>\n",
              "    </tr>\n",
              "    <tr>\n",
              "      <th>4</th>\n",
              "      <td>20140603</td>\n",
              "      <td>449500</td>\n",
              "      <td>5</td>\n",
              "      <td>2.75</td>\n",
              "      <td>2040</td>\n",
              "      <td>7488</td>\n",
              "      <td>1.0</td>\n",
              "      <td>7</td>\n",
              "      <td>1200</td>\n",
              "      <td>840</td>\n",
              "      <td>1969</td>\n",
              "      <td>0</td>\n",
              "      <td>47.7289</td>\n",
              "      <td>-122.172</td>\n",
              "    </tr>\n",
              "  </tbody>\n",
              "</table>\n",
              "</div>"
            ],
            "text/plain": [
              "       销售日期    销售价格  卧室数   浴室数  房屋面积  ...  地下室面积  建筑年份  修复年份       纬度       经度\n",
              "0  20150302  545000    3  2.25  1670  ...    430  1974     0  47.6413 -122.113\n",
              "1  20150211  785000    4  2.50  3300  ...      0  1984     0  47.6323 -122.036\n",
              "2  20150107  765000    3  3.25  3190  ...      0  2007     0  47.5534 -122.002\n",
              "3  20141103  720000    5  2.50  2900  ...      0  1989     0  47.5442 -122.138\n",
              "4  20140603  449500    5  2.75  2040  ...    840  1969     0  47.7289 -122.172\n",
              "\n",
              "[5 rows x 14 columns]"
            ]
          },
          "metadata": {
            "tags": []
          },
          "execution_count": 5
        }
      ]
    },
    {
      "cell_type": "code",
      "metadata": {
        "id": "9-Gguvww7Oq4",
        "colab": {
          "base_uri": "https://localhost:8080/"
        },
        "outputId": "ecf6c0f5-3d83-4d70-da88-e77b5f6acdbc"
      },
      "source": [
        "#数据处理\n",
        "x = []\n",
        "for i in range(14):\n",
        "  if i != 1:\n",
        "    x.append(data2_frame.iloc[:,i].values.reshape((-1,1)))\n",
        "  else:\n",
        "    y = data2_frame.iloc[:,i].values.reshape((-1,1))\n",
        "X = data2_frame.iloc[:,[0,2,3,4,5,6,7,8,9,10,11,12,13]].values\n",
        "train_names = ['date', 'price', 'bedroom_num', 'bathroom_num', 'house_area',\n",
        "        'park_space', 'floor_num', 'house_score', 'covered_area', 'basement_area',\n",
        "        'yearbuilt', 'yearremodadd', 'lat', 'long', 'sell_year', 'sell_month', 'sell_day',\n",
        "        'house_old', 'fix_old']\n",
        "sell_year, sell_month, sell_day = [], [], []\n",
        "house_old, fix_old = [], []\n",
        "for [date, yearbuilt, yearremodadd] in data2_frame.iloc[:,[0,10,11]].values:\n",
        "  year,month,day = date//100000, date%10000//100, date%100\n",
        "  sell_year.append(year)\n",
        "  sell_month.append(month)\n",
        "  sell_day.append(day)\n",
        "  house_old.append(year-yearbuilt)\n",
        "  if yearremodadd == 0:\n",
        "    fix_old.append(0)\n",
        "  else:\n",
        "    fix_old.append(year-yearremodadd)\n",
        "data2_frame['sell_year'] = pd.DataFrame({'sell_year':sell_year})\n",
        "data2_frame['sell_month'] = pd.DataFrame({'sell_month':sell_month})\n",
        "data2_frame['sell_day'] = pd.DataFrame({'sell_day':sell_day})\n",
        "data2_frame['house_old'] = pd.DataFrame({'house_old':house_old})\n",
        "data2_frame['fix_old'] = pd.DataFrame({'fix_old':fix_old})\n",
        "data2_frame = data2_frame.astype('float')\n",
        "#data2_frame.columns = train_names;\n",
        "#del data2_frame['date']\n",
        "x1 = data2_frame.drop('price',axis=1)\n",
        "y1 = data2_frame.loc[:,'price']\n",
        "X1 = MinMaxScaler().fit_transform(x1)\n",
        "X1 = pd.DataFrame(X1, columns=x1.columns)"
      ],
      "execution_count": null,
      "outputs": [
        {
          "output_type": "stream",
          "text": [
            "[Errno 99] Cannot assign requested address\n"
          ],
          "name": "stderr"
        }
      ]
    },
    {
      "cell_type": "code",
      "metadata": {
        "id": "KBUtyYqsw8Wx"
      },
      "source": [
        "#参数\n",
        "\n",
        "#交叉验证次数\n",
        "n_folds = 5\n",
        "#贝叶斯岭回归模型\n",
        "br_model = BayesianRidge()\n",
        "#线性回归模型\n",
        "lr_model = LinearRegression()\n",
        "#弹性网络回归模型\n",
        "etc_model = ElasticNet()\n",
        "#支持向量机回归模型\n",
        "svr_model = SVR()\n",
        "#梯度增强回归模型\n",
        "gbr_model = GradientBoostingRegressor()\n",
        "\n",
        "model_names = ['BayesianRidge', 'LinearRegression', 'ElasticNet', 'SVR', 'GBR']\n",
        "model_dic = [br_model, lr_model, etc_model, svr_model, gbr_model]\n",
        "#交叉验证结果\n",
        "cv_score_list = []\n",
        "#各个回归模型的y值列表\n",
        "pre_y_list = []\n",
        "\n",
        "#参数"
      ],
      "execution_count": null,
      "outputs": []
    },
    {
      "cell_type": "code",
      "metadata": {
        "colab": {
          "base_uri": "https://localhost:8080/"
        },
        "id": "Va4DGN3xxudL",
        "outputId": "959f5b54-db01-4cd3-d058-efef511189bc"
      },
      "source": [
        "#读出每个回归模型对象\n",
        "for model in model_dic:\n",
        "  #将每个回归模型导入交叉检验\n",
        "  scores = cross_val_score(model, X1, y1, cv=n_folds)\n",
        "  #将交叉检验结果存入结果列表\n",
        "  cv_score_list.append(scores)\n",
        "  #将回归训练中得到的预测y存入列表\n",
        "  pre_y_list.append(model.fit(X1, np.ravel(y1)).predict(X1))"
      ],
      "execution_count": null,
      "outputs": [
        {
          "output_type": "stream",
          "text": [
            "[Errno 99] Cannot assign requested address\n",
            "[Errno 99] Cannot assign requested address\n",
            "[Errno 99] Cannot assign requested address\n",
            "[Errno 99] Cannot assign requested address\n",
            "[Errno 99] Cannot assign requested address\n",
            "[Errno 99] Cannot assign requested address\n",
            "[Errno 99] Cannot assign requested address\n",
            "[Errno 99] Cannot assign requested address\n",
            "[Errno 99] Cannot assign requested address\n",
            "[Errno 99] Cannot assign requested address\n",
            "[Errno 99] Cannot assign requested address\n",
            "[Errno 99] Cannot assign requested address\n",
            "[Errno 99] Cannot assign requested address\n",
            "[Errno 99] Cannot assign requested address\n",
            "[Errno 99] Cannot assign requested address\n",
            "[Errno 99] Cannot assign requested address\n",
            "[Errno 99] Cannot assign requested address\n",
            "[Errno 99] Cannot assign requested address\n"
          ],
          "name": "stderr"
        }
      ]
    },
    {
      "cell_type": "code",
      "metadata": {
        "colab": {
          "base_uri": "https://localhost:8080/",
          "height": 222
        },
        "id": "hPH49JD4zEEx",
        "outputId": "2250c9b5-c335-4566-f6df-c2443459c7bc"
      },
      "source": [
        "###模型效果指标评估###\n",
        "n_sample, n_feature = X1.shape\n",
        "model_metrics_name = [explained_variance_score, mean_absolute_error, mean_squared_error, r2_score]\n",
        "model_metrics_list = []\n",
        "for pre_y in pre_y_list:\n",
        "  tmp_list = []\n",
        "  for mdl in model_metrics_name:\n",
        "    #计算每个回归指标结果\n",
        "    tmp_score = mdl(y1, pre_y)\n",
        "    tmp_list.append(tmp_score)\n",
        "  model_metrics_list.append(tmp_list)\n",
        "df_score = pd.DataFrame(cv_score_list, index=model_names)\n",
        "df_met = pd.DataFrame(model_metrics_list, index=model_names, columns=['ev', 'mae', 'mse', 'r2'])\n",
        "\n",
        "df_score.head()"
      ],
      "execution_count": null,
      "outputs": [
        {
          "output_type": "execute_result",
          "data": {
            "text/html": [
              "<div>\n",
              "<style scoped>\n",
              "    .dataframe tbody tr th:only-of-type {\n",
              "        vertical-align: middle;\n",
              "    }\n",
              "\n",
              "    .dataframe tbody tr th {\n",
              "        vertical-align: top;\n",
              "    }\n",
              "\n",
              "    .dataframe thead th {\n",
              "        text-align: right;\n",
              "    }\n",
              "</style>\n",
              "<table border=\"1\" class=\"dataframe\">\n",
              "  <thead>\n",
              "    <tr style=\"text-align: right;\">\n",
              "      <th></th>\n",
              "      <th>0</th>\n",
              "      <th>1</th>\n",
              "      <th>2</th>\n",
              "      <th>3</th>\n",
              "      <th>4</th>\n",
              "    </tr>\n",
              "  </thead>\n",
              "  <tbody>\n",
              "    <tr>\n",
              "      <th>BayesianRidge</th>\n",
              "      <td>0.993329</td>\n",
              "      <td>0.994128</td>\n",
              "      <td>0.993182</td>\n",
              "      <td>0.994917</td>\n",
              "      <td>0.995203</td>\n",
              "    </tr>\n",
              "    <tr>\n",
              "      <th>LinearRegression</th>\n",
              "      <td>0.993326</td>\n",
              "      <td>0.994128</td>\n",
              "      <td>0.993182</td>\n",
              "      <td>0.994917</td>\n",
              "      <td>0.995204</td>\n",
              "    </tr>\n",
              "    <tr>\n",
              "      <th>ElasticNet</th>\n",
              "      <td>0.123238</td>\n",
              "      <td>0.119015</td>\n",
              "      <td>0.127370</td>\n",
              "      <td>0.113511</td>\n",
              "      <td>0.101165</td>\n",
              "    </tr>\n",
              "    <tr>\n",
              "      <th>SVR</th>\n",
              "      <td>-0.056203</td>\n",
              "      <td>-0.062298</td>\n",
              "      <td>-0.065727</td>\n",
              "      <td>-0.063556</td>\n",
              "      <td>-0.055856</td>\n",
              "    </tr>\n",
              "    <tr>\n",
              "      <th>GBR</th>\n",
              "      <td>0.993788</td>\n",
              "      <td>0.994661</td>\n",
              "      <td>0.993319</td>\n",
              "      <td>0.994487</td>\n",
              "      <td>0.987929</td>\n",
              "    </tr>\n",
              "  </tbody>\n",
              "</table>\n",
              "</div>"
            ],
            "text/plain": [
              "                         0         1         2         3         4\n",
              "BayesianRidge     0.993329  0.994128  0.993182  0.994917  0.995203\n",
              "LinearRegression  0.993326  0.994128  0.993182  0.994917  0.995204\n",
              "ElasticNet        0.123238  0.119015  0.127370  0.113511  0.101165\n",
              "SVR              -0.056203 -0.062298 -0.065727 -0.063556 -0.055856\n",
              "GBR               0.993788  0.994661  0.993319  0.994487  0.987929"
            ]
          },
          "metadata": {
            "tags": []
          },
          "execution_count": 31
        },
        {
          "output_type": "stream",
          "text": [
            "[Errno 99] Cannot assign requested address\n"
          ],
          "name": "stderr"
        }
      ]
    },
    {
      "cell_type": "code",
      "metadata": {
        "colab": {
          "base_uri": "https://localhost:8080/",
          "height": 222
        },
        "id": "pMouo8fK0rVU",
        "outputId": "ef03d7ff-c0d0-42a6-9478-8554babb65df"
      },
      "source": [
        "df_met.head()"
      ],
      "execution_count": null,
      "outputs": [
        {
          "output_type": "execute_result",
          "data": {
            "text/html": [
              "<div>\n",
              "<style scoped>\n",
              "    .dataframe tbody tr th:only-of-type {\n",
              "        vertical-align: middle;\n",
              "    }\n",
              "\n",
              "    .dataframe tbody tr th {\n",
              "        vertical-align: top;\n",
              "    }\n",
              "\n",
              "    .dataframe thead th {\n",
              "        text-align: right;\n",
              "    }\n",
              "</style>\n",
              "<table border=\"1\" class=\"dataframe\">\n",
              "  <thead>\n",
              "    <tr style=\"text-align: right;\">\n",
              "      <th></th>\n",
              "      <th>ev</th>\n",
              "      <th>mae</th>\n",
              "      <th>mse</th>\n",
              "      <th>r2</th>\n",
              "    </tr>\n",
              "  </thead>\n",
              "  <tbody>\n",
              "    <tr>\n",
              "      <th>BayesianRidge</th>\n",
              "      <td>0.994289</td>\n",
              "      <td>24406.700715</td>\n",
              "      <td>7.941547e+08</td>\n",
              "      <td>0.994289</td>\n",
              "    </tr>\n",
              "    <tr>\n",
              "      <th>LinearRegression</th>\n",
              "      <td>0.994289</td>\n",
              "      <td>24408.372400</td>\n",
              "      <td>7.942092e+08</td>\n",
              "      <td>0.994289</td>\n",
              "    </tr>\n",
              "    <tr>\n",
              "      <th>ElasticNet</th>\n",
              "      <td>0.116303</td>\n",
              "      <td>218686.122522</td>\n",
              "      <td>1.228866e+11</td>\n",
              "      <td>0.116303</td>\n",
              "    </tr>\n",
              "    <tr>\n",
              "      <th>SVR</th>\n",
              "      <td>0.000987</td>\n",
              "      <td>223843.859109</td>\n",
              "      <td>1.474437e+11</td>\n",
              "      <td>-0.060291</td>\n",
              "    </tr>\n",
              "    <tr>\n",
              "      <th>GBR</th>\n",
              "      <td>0.995186</td>\n",
              "      <td>22130.634728</td>\n",
              "      <td>6.694002e+08</td>\n",
              "      <td>0.995186</td>\n",
              "    </tr>\n",
              "  </tbody>\n",
              "</table>\n",
              "</div>"
            ],
            "text/plain": [
              "                        ev            mae           mse        r2\n",
              "BayesianRidge     0.994289   24406.700715  7.941547e+08  0.994289\n",
              "LinearRegression  0.994289   24408.372400  7.942092e+08  0.994289\n",
              "ElasticNet        0.116303  218686.122522  1.228866e+11  0.116303\n",
              "SVR               0.000987  223843.859109  1.474437e+11 -0.060291\n",
              "GBR               0.995186   22130.634728  6.694002e+08  0.995186"
            ]
          },
          "metadata": {
            "tags": []
          },
          "execution_count": 32
        },
        {
          "output_type": "stream",
          "text": [
            "[Errno 99] Cannot assign requested address\n"
          ],
          "name": "stderr"
        }
      ]
    },
    {
      "cell_type": "code",
      "metadata": {
        "colab": {
          "base_uri": "https://localhost:8080/",
          "height": 394
        },
        "id": "v2IBd5yX02uX",
        "outputId": "385a2814-dc02-41f9-a1a0-79d8b5c59e7f"
      },
      "source": [
        "plt.figure(figsize=(9, 6))\n",
        "color_list = ['r', 'g', 'b', 'y', 'c']\n",
        "for i, pre_y in enumerate(pre_y_list):\n",
        "  plt.subplot(2, 3, i+1)\n",
        "  plt.plot(np.arange(X1.shape[0]), y1, color='k', label='y')\n",
        "  plt.plot(np.arange(X1.shape[0]), pre_y, color_list[i], label=model_names[i])\n",
        "  plt.title(model_names[i])\n",
        "  plt.legend(loc='lower left')\n",
        "plt.savefig('xxx.png')\n",
        "plt.show()"
      ],
      "execution_count": null,
      "outputs": [
        {
          "output_type": "display_data",
          "data": {
            "image/png": "[encoded data removed]",
            "text/plain": [
              "<Figure size 648x432 with 5 Axes>"
            ]
          },
          "metadata": {
            "tags": [],
            "needs_background": "light"
          }
        }
      ]
    },
    {
      "cell_type": "markdown",
      "metadata": {
        "id": "5JOYv78d4HD_"
      },
      "source": [
        "**鸢尾花：**\n",
        "\n",
        "\n",
        "---\n",
        "\n",
        "决策树分类"
      ]
    },
    {
      "cell_type": "code",
      "metadata": {
        "id": "JKdfaM3C_SR4"
      },
      "source": [
        "from matplotlib.colors import ListedColormap\n",
        "from matplotlib.font_manager import FontProperties\n",
        "from sklearn.tree import DecisionTreeClassifier\n",
        "import matplotlib.pyplot as plt\n",
        "import matplotlib.patches as mpatches\n",
        "from scipy.io import loadmat\n",
        "from sklearn.linear_model import LogisticRegression\n",
        "from sklearn import metrics\n",
        "from sklearn.model_selection import train_test_split\n",
        "font = FontProperties(fname='./drive/MyDrive/msyh.ttc')"
      ],
      "execution_count": null,
      "outputs": []
    },
    {
      "cell_type": "code",
      "metadata": {
        "colab": {
          "base_uri": "https://localhost:8080/",
          "height": 222
        },
        "id": "RIr3P-ka4KzA",
        "outputId": "b6cb5d9d-90c5-4ebd-e0bc-5136c724f02d"
      },
      "source": [
        "#数据处理\n",
        "iris_frame = pd.read_csv('./drive/MyDrive/iris.csv')\n",
        "X = iris_frame.iloc[:,[0,1,2,3]].values\n",
        "y = iris_frame.iloc[:,4].values\n",
        "label_list = ['setosa', 'versicolor', 'virginica']\n",
        "#print(y)\n",
        "#print(X)\n",
        "attributes = ['SepalLength', 'SepalWidth', 'PetalLength', 'PetalWidth']\n",
        "X_train, X_test, y_train, y_test = train_test_split(X, y, test_size=0.3)\n",
        "iris_frame.head()"
      ],
      "execution_count": null,
      "outputs": [
        {
          "output_type": "execute_result",
          "data": {
            "text/html": [
              "<div>\n",
              "<style scoped>\n",
              "    .dataframe tbody tr th:only-of-type {\n",
              "        vertical-align: middle;\n",
              "    }\n",
              "\n",
              "    .dataframe tbody tr th {\n",
              "        vertical-align: top;\n",
              "    }\n",
              "\n",
              "    .dataframe thead th {\n",
              "        text-align: right;\n",
              "    }\n",
              "</style>\n",
              "<table border=\"1\" class=\"dataframe\">\n",
              "  <thead>\n",
              "    <tr style=\"text-align: right;\">\n",
              "      <th></th>\n",
              "      <th>sepal length (cm)</th>\n",
              "      <th>sepal width (cm)</th>\n",
              "      <th>petal length (cm)</th>\n",
              "      <th>petal width (cm)</th>\n",
              "      <th>target</th>\n",
              "      <th>targetname</th>\n",
              "    </tr>\n",
              "  </thead>\n",
              "  <tbody>\n",
              "    <tr>\n",
              "      <th>0</th>\n",
              "      <td>5.1</td>\n",
              "      <td>3.5</td>\n",
              "      <td>1.4</td>\n",
              "      <td>0.2</td>\n",
              "      <td>0</td>\n",
              "      <td>setosa</td>\n",
              "    </tr>\n",
              "    <tr>\n",
              "      <th>1</th>\n",
              "      <td>4.9</td>\n",
              "      <td>3.0</td>\n",
              "      <td>1.4</td>\n",
              "      <td>0.2</td>\n",
              "      <td>0</td>\n",
              "      <td>setosa</td>\n",
              "    </tr>\n",
              "    <tr>\n",
              "      <th>2</th>\n",
              "      <td>4.7</td>\n",
              "      <td>3.2</td>\n",
              "      <td>1.3</td>\n",
              "      <td>0.2</td>\n",
              "      <td>0</td>\n",
              "      <td>setosa</td>\n",
              "    </tr>\n",
              "    <tr>\n",
              "      <th>3</th>\n",
              "      <td>4.6</td>\n",
              "      <td>3.1</td>\n",
              "      <td>1.5</td>\n",
              "      <td>0.2</td>\n",
              "      <td>0</td>\n",
              "      <td>setosa</td>\n",
              "    </tr>\n",
              "    <tr>\n",
              "      <th>4</th>\n",
              "      <td>5.0</td>\n",
              "      <td>3.6</td>\n",
              "      <td>1.4</td>\n",
              "      <td>0.2</td>\n",
              "      <td>0</td>\n",
              "      <td>setosa</td>\n",
              "    </tr>\n",
              "  </tbody>\n",
              "</table>\n",
              "</div>"
            ],
            "text/plain": [
              "   sepal length (cm)  sepal width (cm)  ...  target  targetname\n",
              "0                5.1               3.5  ...       0      setosa\n",
              "1                4.9               3.0  ...       0      setosa\n",
              "2                4.7               3.2  ...       0      setosa\n",
              "3                4.6               3.1  ...       0      setosa\n",
              "4                5.0               3.6  ...       0      setosa\n",
              "\n",
              "[5 rows x 6 columns]"
            ]
          },
          "metadata": {
            "tags": []
          },
          "execution_count": 41
        },
        {
          "output_type": "stream",
          "text": [
            "[Errno 99] Cannot assign requested address\n"
          ],
          "name": "stderr"
        }
      ]
    },
    {
      "cell_type": "code",
      "metadata": {
        "id": "lr2QP_1SANuF"
      },
      "source": [
        "#构建决策边界\n",
        "def plot_decision_regions(X, y, classifier=None):\n",
        "  marker_list = ['o','x','s']\n",
        "  color_list = ['r','b','g']\n",
        "  cmap = ListedColormap(color_list[:len(np.unique(y))])\n",
        "\n",
        "  x1_min, x1_max = X[:,0].min()-1, X[:,0].max()+1\n",
        "  x2_min, x2_max = X[:,1].min()-1, X[:,1].max()+1\n",
        "  t1 = np.linspace(x1_min, x1_max)\n",
        "  t2 = np.linspace(x2_min, x2_max)\n",
        "\n",
        "  x1, x2 = np.meshgrid(t1, t2)\n",
        "  y_hat = classifier.predict(np.array([x1.ravel(), x2.ravel()]).T)\n",
        "  y_hat = y_hat.reshape(x1.shape)\n",
        "  plt.contourf(x1, x2, y_hat, alpha=0.2, cmap=cmap)\n",
        "  plt.xlim(x1_min, x1_max)\n",
        "  plt.ylim(x2_min, x2_max)\n",
        "\n",
        "  for ind, clas in enumerate(np.unique(y)):\n",
        "    plt.scatter(X[y == clas, 0], X[y == clas, 1], alpha=0.8, s=50,\n",
        "          c=color_list[ind],marker=marker_list[ind],label=label_list[clas])"
      ],
      "execution_count": null,
      "outputs": []
    },
    {
      "cell_type": "code",
      "metadata": {
        "colab": {
          "base_uri": "https://localhost:8080/"
        },
        "id": "hG-cc6m-Bh2s",
        "outputId": "e29262c5-0e09-423d-b235-12dae832f893"
      },
      "source": [
        "tree = DecisionTreeClassifier(criterion='gini', max_depth=5, random_state=1)\n",
        "tree.fit(X_train,y_train)"
      ],
      "execution_count": null,
      "outputs": [
        {
          "output_type": "execute_result",
          "data": {
            "text/plain": [
              "DecisionTreeClassifier(ccp_alpha=0.0, class_weight=None, criterion='gini',\n",
              "                       max_depth=5, max_features=None, max_leaf_nodes=None,\n",
              "                       min_impurity_decrease=0.0, min_impurity_split=None,\n",
              "                       min_samples_leaf=1, min_samples_split=2,\n",
              "                       min_weight_fraction_leaf=0.0, presort='deprecated',\n",
              "                       random_state=1, splitter='best')"
            ]
          },
          "metadata": {
            "tags": []
          },
          "execution_count": 43
        }
      ]
    },
    {
      "cell_type": "code",
      "metadata": {
        "id": "zytHAxxvCFJY",
        "colab": {
          "base_uri": "https://localhost:8080/"
        },
        "outputId": "8984c060-6554-4f5c-9d76-8c2d1e709a05"
      },
      "source": [
        "#plot_decision_regions(X, y, classifier=tree)\n",
        "#plt.xlabel('花瓣长度(cm)', fontproperties=font)\n",
        "#plt.ylabel('花瓣宽度(cm)', fontproperties=font)\n",
        "#plt.legend(prop=font)\n",
        "#plt.show()\n",
        "print(\"训练集的准确率：%.3f\"%tree.score(X_train, y_train))\n",
        "print(\"测试集的准确率：%.3f\"%tree.score(X_test, y_test))\n",
        "y_hat = tree.predict(X_test)\n",
        "accuracy = metrics.accuracy_score(y_test, y_hat)\n",
        "print(\"模型正确率：%.3f\"%accuracy)"
      ],
      "execution_count": null,
      "outputs": [
        {
          "output_type": "stream",
          "text": [
            "训练集的准确率：0.990\n",
            "测试集的准确率：0.933\n",
            "模型正确率：0.933\n"
          ],
          "name": "stdout"
        }
      ]
    },
    {
      "cell_type": "code",
      "metadata": {
        "colab": {
          "base_uri": "https://localhost:8080/"
        },
        "id": "8mWuFi-BQJ0P",
        "outputId": "8c7e63eb-9dcc-49ee-913b-e540bc8ad6cf"
      },
      "source": [
        "lr = LogisticRegression(penalty='l2', solver='newton-cg', multi_class='multinomial')\n",
        "lr.fit(X_train, y_train)"
      ],
      "execution_count": null,
      "outputs": [
        {
          "output_type": "execute_result",
          "data": {
            "text/plain": [
              "LogisticRegression(C=1.0, class_weight=None, dual=False, fit_intercept=True,\n",
              "                   intercept_scaling=1, l1_ratio=None, max_iter=100,\n",
              "                   multi_class='multinomial', n_jobs=None, penalty='l2',\n",
              "                   random_state=None, solver='newton-cg', tol=0.0001, verbose=0,\n",
              "                   warm_start=False)"
            ]
          },
          "metadata": {
            "tags": []
          },
          "execution_count": 46
        }
      ]
    },
    {
      "cell_type": "code",
      "metadata": {
        "colab": {
          "base_uri": "https://localhost:8080/"
        },
        "id": "-zhsJ8TDRk_y",
        "outputId": "f76922dc-122d-4a83-e0a0-240ace450de6"
      },
      "source": [
        "print(\"训练集的准确率：%.3f\"%lr.score(X_train, y_train))\n",
        "print(\"测试集的准确率：%.3f\"%lr.score(X_test, y_test))\n",
        "y_hat = lr.predict(X_test)\n",
        "accuracy = metrics.accuracy_score(y_test, y_hat)\n",
        "print(\"模型正确率：%.3f\"%accuracy)"
      ],
      "execution_count": null,
      "outputs": [
        {
          "output_type": "stream",
          "text": [
            "训练集的准确率：0.962\n",
            "测试集的准确率：0.956\n",
            "模型正确率：0.956\n"
          ],
          "name": "stdout"
        }
      ]
    },
    {
      "cell_type": "markdown",
      "metadata": {
        "id": "LawvqGOnZ-H9"
      },
      "source": [
        "**LeNet-5**"
      ]
    },
    {
      "cell_type": "code",
      "metadata": {
        "id": "RcHFwqkeZ91R"
      },
      "source": [
        "import torch.nn as nn\n",
        "from collections import OrderedDict"
      ],
      "execution_count": null,
      "outputs": []
    },
    {
      "cell_type": "code",
      "metadata": {
        "id": "FskLHoGGaEV2"
      },
      "source": [
        "class C1(nn.Module):\n",
        "  def __init__(self):\n",
        "    super(C1, self).__init__()\n",
        "    self.c1 = nn.Sequential(OrderedDict([\n",
        "      ('c1', nn.Conv2d(1, 6, kernel_size=(5, 5))),\n",
        "      ('relu1', nn.ReLU()),\n",
        "      ('s1', nn.MaxPool2d(kernel_size=(2, 2), stride=2))\n",
        "    ]))\n",
        "  def forward(self, img):\n",
        "    output = self.c1(img)\n",
        "    return output\n",
        "\n",
        "class C2(nn.Module):\n",
        "  def __init__(self):\n",
        "    super(C2, self).__init__()\n",
        "\n",
        "    self.c2 = nn.Sequential(OrderedDict([\n",
        "      ('c2', nn.Conv2d(6, 16, kernel_size=(5, 5))),\n",
        "      ('relu2', nn.ReLU()),\n",
        "      ('s2', nn.MaxPool2d(kernel_size=(2, 2), stride=2))\n",
        "    ]))\n",
        "  def forward(self, img):\n",
        "    output = self.c2(img)\n",
        "    return output\n",
        "\n",
        "class C3(nn.Module):\n",
        "  def __init__(self):\n",
        "    super(C3, self).__init__()\n",
        "\n",
        "    self.c3 = nn.Sequential(OrderedDict([\n",
        "      ('c3', nn.Conv2d(16, 120, kernel_size=(5, 5))),\n",
        "      ('relu3', nn.ReLU())\n",
        "    ]))\n",
        "  def forward(self, img):\n",
        "    output = self.c3(img)\n",
        "    return output\n",
        "\n",
        "class F4(nn.Module):\n",
        "  def __init__(self):\n",
        "    super(F4, self).__init__()\n",
        "\n",
        "    self.f4 = nn.Sequential(OrderedDict([\n",
        "      ('f4', nn.Linear(120, 84)),\n",
        "      ('relu4', nn.ReLU())\n",
        "    ]))\n",
        "  def forward(self, img):\n",
        "    output = self.f4(img)\n",
        "    return output\n",
        "\n",
        "class F5(nn.Module):\n",
        "  def __init__(self):\n",
        "    super(F5, self).__init__()\n",
        "\n",
        "    self.f5 = nn.Sequential(OrderedDict([\n",
        "      ('f5', nn.Linear(84, 10)),\n",
        "      ('sig5', nn.LogSoftmax(dim=-1))\n",
        "    ]))\n",
        "  def forward(self, img):\n",
        "    output = self.f5(img)\n",
        "    return output\n",
        "\n",
        "class LeNet5(nn.Module):\n",
        "  \"\"\"\n",
        "  Input - 1x32x32\n",
        "  Output - 10\n",
        "  \"\"\"\n",
        "  def __init__(self):\n",
        "    super(LeNet5, self).__init__()\n",
        "\n",
        "    self.c1 = C1()\n",
        "    self.c2_1 = C2()\n",
        "    self.c2_2 = C2()\n",
        "    self.c3 = C3()\n",
        "    self.f4 = F4()\n",
        "    self.f5 = F5()\n",
        "\n",
        "  def forward(self, img):\n",
        "    output = self.c1(img)\n",
        "\n",
        "    x = self.c2_1(output)\n",
        "    output = self.c2_2(output)\n",
        "\n",
        "    output += x\n",
        "\n",
        "    output = self.c3(output)\n",
        "    output = output.view(img.size(0), -1)\n",
        "    output = self.f4(output)\n",
        "    output = self.f5(output)\n",
        "    return output\n",
        ""
      ],
      "execution_count": null,
      "outputs": []
    },
    {
      "cell_type": "code",
      "metadata": {
        "colab": {
          "base_uri": "https://localhost:8080/"
        },
        "id": "J78NPVffcCIJ",
        "outputId": "9394c282-b91f-4c06-f4ea-3e2a58cf0fb1"
      },
      "source": [
        "import torch\n",
        "import torch.nn as nn\n",
        "import torch.optim as optim\n",
        "from torchvision.datasets.mnist import MNIST\n",
        "import torchvision.transforms as transforms\n",
        "from torch.utils.data import DataLoader"
      ],
      "execution_count": null,
      "outputs": [
        {
          "output_type": "stream",
          "text": [
            "[Errno 99] Cannot assign requested address\n"
          ],
          "name": "stderr"
        }
      ]
    },
    {
      "cell_type": "code",
      "metadata": {
        "colab": {
          "base_uri": "https://localhost:8080/"
        },
        "id": "bbiFUBI1cPQx",
        "outputId": "4de1e9ad-cdb6-4ad0-8694-8dcab0ac0cd3"
      },
      "source": [
        "data_train = MNIST('./data/mnist',\n",
        "          download=True,\n",
        "          transform=transforms.Compose([\n",
        "            transforms.Resize((32,32)),\n",
        "            transforms.ToTensor()\n",
        "          ]))\n",
        "data_test = MNIST('./data/mnist',\n",
        "          train=False,\n",
        "          download=True,\n",
        "          transform=transforms.Compose([\n",
        "              transforms.Resize((32, 32)),\n",
        "              transforms.ToTensor()\n",
        "          ]))\n",
        "data_train_loader = DataLoader(data_train, batch_size=256, shuffle=True, num_workers=8)\n",
        "data_test_loader = DataLoader(data_test, batch_size=1024, num_workers=8)\n",
        "\n",
        "net = LeNet5()\n",
        "criterion = nn.CrossEntropyLoss()\n",
        "optimizer = optim.Adam(net.parameters(), lr=2e-3)\n",
        "\n",
        "cur_batch_win = None\n",
        "cur_batch_win_opts = {\n",
        "    'title': 'Epoch Loss Trace',\n",
        "    'xlabel': 'Batch Number',\n",
        "    'ylabel': 'Loss',\n",
        "    'width': 1200,\n",
        "    'height': 600,\n",
        "}"
      ],
      "execution_count": null,
      "outputs": [
        {
          "output_type": "stream",
          "text": [
            "/usr/local/lib/python3.7/dist-packages/torch/utils/data/dataloader.py:481: UserWarning: This DataLoader will create 8 worker processes in total. Our suggested max number of worker in current system is 2, which is smaller than what this DataLoader is going to create. Please be aware that excessive worker creation might get DataLoader running slow or even freeze, lower the worker number to avoid potential slowness/freeze if necessary.\n",
            "  cpuset_checked))\n"
          ],
          "name": "stderr"
        }
      ]
    },
    {
      "cell_type": "code",
      "metadata": {
        "id": "Daq06DZwdG2L"
      },
      "source": [
        "def train(epoch):\n",
        "  global cur_batch_win\n",
        "  net.train()\n",
        "  loss_list, batch_list = [], []\n",
        "  for i, (images, labels) in enumerate(data_train_loader):\n",
        "    optimizer.zero_grad()\n",
        "    output = net(images)\n",
        "    loss = criterion(output, labels)\n",
        "    loss_list.append(loss.detach().cpu().item())\n",
        "    batch_list.append(i+1)\n",
        "    if i % 10 == 0:\n",
        "      print('Train - Epoch %d, Batch: %d, Loss: %f' % (epoch, i, loss.detach().cpu().item()))\n",
        "\n",
        "    if viz.check_connection():\n",
        "      cur_batch_win = viz.line(torch.Tensor(loss_list), torch.Tensor(batch_list),\n",
        "                    win=cur_batch_win, name='current_batch_loss',\n",
        "                    update=(None if cur_batch_win is None else 'replace'),\n",
        "                    opts=cur_batch_win_opts)\n",
        "    loss.backward()\n",
        "    optimizer.step()\n",
        "def test():\n",
        "  net.eval()\n",
        "  total_correct = 0\n",
        "  avg_loss = 0.0\n",
        "  for i, (images, labels) in enumerate(data_test_loader):\n",
        "    output = net(images)\n",
        "    avg_loss += criterion(output, labels).sum()\n",
        "    pred = output.detach().max(1)[1]\n",
        "    total_correct += pred.eq(labels.view_as(pred)).sum()\n",
        "  avg_loss /= len(data_test)\n",
        "  print('Test Avg. Loss: %f, Accuracy: %f' % (avg_loss.detach().cpu().item(), float(total_correct) / len(data_test)))"
      ],
      "execution_count": null,
      "outputs": []
    },
    {
      "cell_type": "code",
      "metadata": {
        "colab": {
          "base_uri": "https://localhost:8080/",
          "height": 1000
        },
        "id": "BB53Oo_pefBd",
        "outputId": "ef4a646c-db75-4208-a64d-ac8f9237bef4"
      },
      "source": [
        "def train_and_test(epoch):\n",
        "  train(epoch)\n",
        "  test()\n",
        "  dummy_input = torch.randn(1, 1, 32, 32, requires_grad=True)\n",
        "\n",
        "\n",
        "for e in range(1, 16):\n",
        "  train_and_test(e)"
      ],
      "execution_count": null,
      "outputs": [
        {
          "output_type": "stream",
          "text": [
            "/usr/local/lib/python3.7/dist-packages/torch/utils/data/dataloader.py:481: UserWarning: This DataLoader will create 8 worker processes in total. Our suggested max number of worker in current system is 2, which is smaller than what this DataLoader is going to create. Please be aware that excessive worker creation might get DataLoader running slow or even freeze, lower the worker number to avoid potential slowness/freeze if necessary.\n",
            "  cpuset_checked))\n"
          ],
          "name": "stderr"
        },
        {
          "output_type": "stream",
          "text": [
            "Train - Epoch 1, Batch: 0, Loss: 0.009972\n",
            "Train - Epoch 1, Batch: 10, Loss: 0.002405\n"
          ],
          "name": "stdout"
        },
        {
          "output_type": "stream",
          "text": [
            "[Errno 99] Cannot assign requested address\n"
          ],
          "name": "stderr"
        },
        {
          "output_type": "stream",
          "text": [
            "Train - Epoch 1, Batch: 20, Loss: 0.007458\n",
            "Train - Epoch 1, Batch: 30, Loss: 0.020839\n",
            "Train - Epoch 1, Batch: 40, Loss: 0.026445\n"
          ],
          "name": "stdout"
        },
        {
          "output_type": "stream",
          "text": [
            "[Errno 99] Cannot assign requested address\n"
          ],
          "name": "stderr"
        },
        {
          "output_type": "stream",
          "text": [
            "Train - Epoch 1, Batch: 50, Loss: 0.000600\n",
            "Train - Epoch 1, Batch: 60, Loss: 0.027038\n",
            "Train - Epoch 1, Batch: 70, Loss: 0.005884\n"
          ],
          "name": "stdout"
        },
        {
          "output_type": "stream",
          "text": [
            "[Errno 99] Cannot assign requested address\n"
          ],
          "name": "stderr"
        },
        {
          "output_type": "stream",
          "text": [
            "Train - Epoch 1, Batch: 80, Loss: 0.020523\n",
            "Train - Epoch 1, Batch: 90, Loss: 0.001804\n",
            "Train - Epoch 1, Batch: 100, Loss: 0.002717\n"
          ],
          "name": "stdout"
        },
        {
          "output_type": "stream",
          "text": [
            "[Errno 99] Cannot assign requested address\n"
          ],
          "name": "stderr"
        },
        {
          "output_type": "stream",
          "text": [
            "Train - Epoch 1, Batch: 110, Loss: 0.013873\n",
            "Train - Epoch 1, Batch: 120, Loss: 0.003657\n",
            "Train - Epoch 1, Batch: 130, Loss: 0.013489\n"
          ],
          "name": "stdout"
        },
        {
          "output_type": "stream",
          "text": [
            "[Errno 99] Cannot assign requested address\n"
          ],
          "name": "stderr"
        },
        {
          "output_type": "stream",
          "text": [
            "Train - Epoch 1, Batch: 140, Loss: 0.000770\n",
            "Train - Epoch 1, Batch: 150, Loss: 0.007120\n",
            "Train - Epoch 1, Batch: 160, Loss: 0.024868\n"
          ],
          "name": "stdout"
        },
        {
          "output_type": "stream",
          "text": [
            "[Errno 99] Cannot assign requested address\n"
          ],
          "name": "stderr"
        },
        {
          "output_type": "stream",
          "text": [
            "Train - Epoch 1, Batch: 170, Loss: 0.004094\n",
            "Train - Epoch 1, Batch: 180, Loss: 0.011133\n",
            "Train - Epoch 1, Batch: 190, Loss: 0.064468\n"
          ],
          "name": "stdout"
        },
        {
          "output_type": "stream",
          "text": [
            "[Errno 99] Cannot assign requested address\n"
          ],
          "name": "stderr"
        },
        {
          "output_type": "stream",
          "text": [
            "Train - Epoch 1, Batch: 200, Loss: 0.011335\n",
            "Train - Epoch 1, Batch: 210, Loss: 0.002527\n",
            "Train - Epoch 1, Batch: 220, Loss: 0.003776\n"
          ],
          "name": "stdout"
        },
        {
          "output_type": "stream",
          "text": [
            "[Errno 99] Cannot assign requested address\n"
          ],
          "name": "stderr"
        },
        {
          "output_type": "stream",
          "text": [
            "Train - Epoch 1, Batch: 230, Loss: 0.032822\n"
          ],
          "name": "stdout"
        },
        {
          "output_type": "stream",
          "text": [
            "[Errno 99] Cannot assign requested address\n"
          ],
          "name": "stderr"
        },
        {
          "output_type": "stream",
          "text": [
            "Test Avg. Loss: 0.000031, Accuracy: 0.991200\n",
            "Train - Epoch 2, Batch: 0, Loss: 0.003338\n",
            "Train - Epoch 2, Batch: 10, Loss: 0.002997\n"
          ],
          "name": "stdout"
        },
        {
          "output_type": "stream",
          "text": [
            "[Errno 99] Cannot assign requested address\n"
          ],
          "name": "stderr"
        },
        {
          "output_type": "stream",
          "text": [
            "Train - Epoch 2, Batch: 20, Loss: 0.007024\n",
            "Train - Epoch 2, Batch: 30, Loss: 0.003467\n",
            "Train - Epoch 2, Batch: 40, Loss: 0.003833\n"
          ],
          "name": "stdout"
        },
        {
          "output_type": "stream",
          "text": [
            "[Errno 99] Cannot assign requested address\n"
          ],
          "name": "stderr"
        },
        {
          "output_type": "stream",
          "text": [
            "Train - Epoch 2, Batch: 50, Loss: 0.001856\n",
            "Train - Epoch 2, Batch: 60, Loss: 0.004239\n",
            "Train - Epoch 2, Batch: 70, Loss: 0.004524\n"
          ],
          "name": "stdout"
        },
        {
          "output_type": "stream",
          "text": [
            "[Errno 99] Cannot assign requested address\n"
          ],
          "name": "stderr"
        },
        {
          "output_type": "stream",
          "text": [
            "Train - Epoch 2, Batch: 80, Loss: 0.002680\n",
            "Train - Epoch 2, Batch: 90, Loss: 0.011059\n",
            "Train - Epoch 2, Batch: 100, Loss: 0.007102\n"
          ],
          "name": "stdout"
        },
        {
          "output_type": "stream",
          "text": [
            "[Errno 99] Cannot assign requested address\n"
          ],
          "name": "stderr"
        },
        {
          "output_type": "stream",
          "text": [
            "Train - Epoch 2, Batch: 110, Loss: 0.004481\n",
            "Train - Epoch 2, Batch: 120, Loss: 0.029595\n",
            "Train - Epoch 2, Batch: 130, Loss: 0.020003\n"
          ],
          "name": "stdout"
        },
        {
          "output_type": "stream",
          "text": [
            "[Errno 99] Cannot assign requested address\n"
          ],
          "name": "stderr"
        },
        {
          "output_type": "stream",
          "text": [
            "Train - Epoch 2, Batch: 140, Loss: 0.005814\n",
            "Train - Epoch 2, Batch: 150, Loss: 0.040137\n",
            "Train - Epoch 2, Batch: 160, Loss: 0.011405\n"
          ],
          "name": "stdout"
        },
        {
          "output_type": "stream",
          "text": [
            "[Errno 99] Cannot assign requested address\n"
          ],
          "name": "stderr"
        },
        {
          "output_type": "stream",
          "text": [
            "Train - Epoch 2, Batch: 170, Loss: 0.015683\n",
            "Train - Epoch 2, Batch: 180, Loss: 0.015243\n",
            "Train - Epoch 2, Batch: 190, Loss: 0.022378\n"
          ],
          "name": "stdout"
        },
        {
          "output_type": "stream",
          "text": [
            "[Errno 99] Cannot assign requested address\n"
          ],
          "name": "stderr"
        },
        {
          "output_type": "stream",
          "text": [
            "Train - Epoch 2, Batch: 200, Loss: 0.001476\n",
            "Train - Epoch 2, Batch: 210, Loss: 0.002941\n",
            "Train - Epoch 2, Batch: 220, Loss: 0.011000\n"
          ],
          "name": "stdout"
        },
        {
          "output_type": "stream",
          "text": [
            "[Errno 99] Cannot assign requested address\n"
          ],
          "name": "stderr"
        },
        {
          "output_type": "stream",
          "text": [
            "Train - Epoch 2, Batch: 230, Loss: 0.013775\n"
          ],
          "name": "stdout"
        },
        {
          "output_type": "stream",
          "text": [
            "[Errno 99] Cannot assign requested address\n"
          ],
          "name": "stderr"
        },
        {
          "output_type": "stream",
          "text": [
            "Test Avg. Loss: 0.000030, Accuracy: 0.991500\n",
            "Train - Epoch 3, Batch: 0, Loss: 0.004295\n",
            "Train - Epoch 3, Batch: 10, Loss: 0.020674\n"
          ],
          "name": "stdout"
        },
        {
          "output_type": "stream",
          "text": [
            "[Errno 99] Cannot assign requested address\n"
          ],
          "name": "stderr"
        },
        {
          "output_type": "stream",
          "text": [
            "Train - Epoch 3, Batch: 20, Loss: 0.000580\n",
            "Train - Epoch 3, Batch: 30, Loss: 0.062240\n",
            "Train - Epoch 3, Batch: 40, Loss: 0.036234\n"
          ],
          "name": "stdout"
        },
        {
          "output_type": "stream",
          "text": [
            "[Errno 99] Cannot assign requested address\n"
          ],
          "name": "stderr"
        },
        {
          "output_type": "stream",
          "text": [
            "Train - Epoch 3, Batch: 50, Loss: 0.007859\n",
            "Train - Epoch 3, Batch: 60, Loss: 0.009914\n",
            "Train - Epoch 3, Batch: 70, Loss: 0.001779\n"
          ],
          "name": "stdout"
        },
        {
          "output_type": "stream",
          "text": [
            "[Errno 99] Cannot assign requested address\n"
          ],
          "name": "stderr"
        },
        {
          "output_type": "stream",
          "text": [
            "Train - Epoch 3, Batch: 80, Loss: 0.000441\n",
            "Train - Epoch 3, Batch: 90, Loss: 0.004870\n",
            "Train - Epoch 3, Batch: 100, Loss: 0.019802\n"
          ],
          "name": "stdout"
        },
        {
          "output_type": "stream",
          "text": [
            "[Errno 99] Cannot assign requested address\n"
          ],
          "name": "stderr"
        },
        {
          "output_type": "stream",
          "text": [
            "Train - Epoch 3, Batch: 110, Loss: 0.004914\n",
            "Train - Epoch 3, Batch: 120, Loss: 0.007422\n",
            "Train - Epoch 3, Batch: 130, Loss: 0.003649\n"
          ],
          "name": "stdout"
        },
        {
          "output_type": "stream",
          "text": [
            "[Errno 99] Cannot assign requested address\n"
          ],
          "name": "stderr"
        },
        {
          "output_type": "stream",
          "text": [
            "Train - Epoch 3, Batch: 140, Loss: 0.002042\n",
            "Train - Epoch 3, Batch: 150, Loss: 0.000529\n",
            "Train - Epoch 3, Batch: 160, Loss: 0.001170\n"
          ],
          "name": "stdout"
        },
        {
          "output_type": "stream",
          "text": [
            "[Errno 99] Cannot assign requested address\n"
          ],
          "name": "stderr"
        },
        {
          "output_type": "stream",
          "text": [
            "Train - Epoch 3, Batch: 170, Loss: 0.003261\n",
            "Train - Epoch 3, Batch: 180, Loss: 0.025907\n",
            "Train - Epoch 3, Batch: 190, Loss: 0.003761\n"
          ],
          "name": "stdout"
        },
        {
          "output_type": "stream",
          "text": [
            "[Errno 99] Cannot assign requested address\n"
          ],
          "name": "stderr"
        },
        {
          "output_type": "stream",
          "text": [
            "Train - Epoch 3, Batch: 200, Loss: 0.009021\n",
            "Train - Epoch 3, Batch: 210, Loss: 0.021300\n",
            "Train - Epoch 3, Batch: 220, Loss: 0.006747\n"
          ],
          "name": "stdout"
        },
        {
          "output_type": "stream",
          "text": [
            "[Errno 99] Cannot assign requested address\n"
          ],
          "name": "stderr"
        },
        {
          "output_type": "stream",
          "text": [
            "Train - Epoch 3, Batch: 230, Loss: 0.007965\n"
          ],
          "name": "stdout"
        },
        {
          "output_type": "stream",
          "text": [
            "[Errno 99] Cannot assign requested address\n"
          ],
          "name": "stderr"
        },
        {
          "output_type": "stream",
          "text": [
            "Test Avg. Loss: 0.000034, Accuracy: 0.990800\n",
            "Train - Epoch 4, Batch: 0, Loss: 0.008252\n"
          ],
          "name": "stdout"
        },
        {
          "output_type": "stream",
          "text": [
            "[Errno 99] Cannot assign requested address\n"
          ],
          "name": "stderr"
        },
        {
          "output_type": "stream",
          "text": [
            "Train - Epoch 4, Batch: 10, Loss: 0.000912\n",
            "Train - Epoch 4, Batch: 20, Loss: 0.009487\n",
            "Train - Epoch 4, Batch: 30, Loss: 0.001938\n"
          ],
          "name": "stdout"
        },
        {
          "output_type": "stream",
          "text": [
            "[Errno 99] Cannot assign requested address\n"
          ],
          "name": "stderr"
        },
        {
          "output_type": "stream",
          "text": [
            "Train - Epoch 4, Batch: 40, Loss: 0.014926\n",
            "Train - Epoch 4, Batch: 50, Loss: 0.043609\n",
            "Train - Epoch 4, Batch: 60, Loss: 0.005725\n"
          ],
          "name": "stdout"
        },
        {
          "output_type": "stream",
          "text": [
            "[Errno 99] Cannot assign requested address\n"
          ],
          "name": "stderr"
        },
        {
          "output_type": "stream",
          "text": [
            "Train - Epoch 4, Batch: 70, Loss: 0.045377\n",
            "Train - Epoch 4, Batch: 80, Loss: 0.024350\n",
            "Train - Epoch 4, Batch: 90, Loss: 0.055101\n"
          ],
          "name": "stdout"
        },
        {
          "output_type": "stream",
          "text": [
            "[Errno 99] Cannot assign requested address\n"
          ],
          "name": "stderr"
        },
        {
          "output_type": "stream",
          "text": [
            "Train - Epoch 4, Batch: 100, Loss: 0.024274\n",
            "Train - Epoch 4, Batch: 110, Loss: 0.002543\n",
            "Train - Epoch 4, Batch: 120, Loss: 0.004675\n"
          ],
          "name": "stdout"
        },
        {
          "output_type": "stream",
          "text": [
            "[Errno 99] Cannot assign requested address\n"
          ],
          "name": "stderr"
        },
        {
          "output_type": "stream",
          "text": [
            "Train - Epoch 4, Batch: 130, Loss: 0.015300\n",
            "Train - Epoch 4, Batch: 140, Loss: 0.004870\n",
            "Train - Epoch 4, Batch: 150, Loss: 0.002863\n"
          ],
          "name": "stdout"
        },
        {
          "output_type": "stream",
          "text": [
            "[Errno 99] Cannot assign requested address\n"
          ],
          "name": "stderr"
        },
        {
          "output_type": "stream",
          "text": [
            "Train - Epoch 4, Batch: 160, Loss: 0.003170\n",
            "Train - Epoch 4, Batch: 170, Loss: 0.003882\n",
            "Train - Epoch 4, Batch: 180, Loss: 0.002432\n"
          ],
          "name": "stdout"
        },
        {
          "output_type": "stream",
          "text": [
            "[Errno 99] Cannot assign requested address\n"
          ],
          "name": "stderr"
        },
        {
          "output_type": "stream",
          "text": [
            "Train - Epoch 4, Batch: 190, Loss: 0.012720\n",
            "Train - Epoch 4, Batch: 200, Loss: 0.001530\n",
            "Train - Epoch 4, Batch: 210, Loss: 0.003006\n"
          ],
          "name": "stdout"
        },
        {
          "output_type": "stream",
          "text": [
            "[Errno 99] Cannot assign requested address\n"
          ],
          "name": "stderr"
        },
        {
          "output_type": "stream",
          "text": [
            "Train - Epoch 4, Batch: 220, Loss: 0.022767\n",
            "Train - Epoch 4, Batch: 230, Loss: 0.001167\n"
          ],
          "name": "stdout"
        },
        {
          "output_type": "stream",
          "text": [
            "[Errno 99] Cannot assign requested address\n"
          ],
          "name": "stderr"
        },
        {
          "output_type": "stream",
          "text": [
            "Test Avg. Loss: 0.000038, Accuracy: 0.989800\n",
            "Train - Epoch 5, Batch: 0, Loss: 0.005750\n"
          ],
          "name": "stdout"
        },
        {
          "output_type": "stream",
          "text": [
            "[Errno 99] Cannot assign requested address\n"
          ],
          "name": "stderr"
        },
        {
          "output_type": "stream",
          "text": [
            "Train - Epoch 5, Batch: 10, Loss: 0.001014\n",
            "Train - Epoch 5, Batch: 20, Loss: 0.001080\n",
            "Train - Epoch 5, Batch: 30, Loss: 0.001681\n"
          ],
          "name": "stdout"
        },
        {
          "output_type": "stream",
          "text": [
            "[Errno 99] Cannot assign requested address\n"
          ],
          "name": "stderr"
        },
        {
          "output_type": "stream",
          "text": [
            "Train - Epoch 5, Batch: 40, Loss: 0.005477\n",
            "Train - Epoch 5, Batch: 50, Loss: 0.016484\n",
            "Train - Epoch 5, Batch: 60, Loss: 0.011653\n"
          ],
          "name": "stdout"
        },
        {
          "output_type": "stream",
          "text": [
            "[Errno 99] Cannot assign requested address\n"
          ],
          "name": "stderr"
        },
        {
          "output_type": "stream",
          "text": [
            "Train - Epoch 5, Batch: 70, Loss: 0.024438\n",
            "Train - Epoch 5, Batch: 80, Loss: 0.008103\n",
            "Train - Epoch 5, Batch: 90, Loss: 0.001411\n"
          ],
          "name": "stdout"
        },
        {
          "output_type": "stream",
          "text": [
            "[Errno 99] Cannot assign requested address\n"
          ],
          "name": "stderr"
        },
        {
          "output_type": "stream",
          "text": [
            "Train - Epoch 5, Batch: 100, Loss: 0.016054\n",
            "Train - Epoch 5, Batch: 110, Loss: 0.010813\n",
            "Train - Epoch 5, Batch: 120, Loss: 0.006030\n"
          ],
          "name": "stdout"
        },
        {
          "output_type": "stream",
          "text": [
            "[Errno 99] Cannot assign requested address\n"
          ],
          "name": "stderr"
        },
        {
          "output_type": "stream",
          "text": [
            "Train - Epoch 5, Batch: 130, Loss: 0.006630\n",
            "Train - Epoch 5, Batch: 140, Loss: 0.022067\n",
            "Train - Epoch 5, Batch: 150, Loss: 0.005304\n"
          ],
          "name": "stdout"
        },
        {
          "output_type": "stream",
          "text": [
            "[Errno 99] Cannot assign requested address\n"
          ],
          "name": "stderr"
        },
        {
          "output_type": "stream",
          "text": [
            "Train - Epoch 5, Batch: 160, Loss: 0.003124\n",
            "Train - Epoch 5, Batch: 170, Loss: 0.000589\n",
            "Train - Epoch 5, Batch: 180, Loss: 0.040244\n"
          ],
          "name": "stdout"
        },
        {
          "output_type": "stream",
          "text": [
            "[Errno 99] Cannot assign requested address\n"
          ],
          "name": "stderr"
        },
        {
          "output_type": "stream",
          "text": [
            "Train - Epoch 5, Batch: 190, Loss: 0.004378\n",
            "Train - Epoch 5, Batch: 200, Loss: 0.005900\n",
            "Train - Epoch 5, Batch: 210, Loss: 0.003027\n"
          ],
          "name": "stdout"
        },
        {
          "output_type": "stream",
          "text": [
            "[Errno 99] Cannot assign requested address\n"
          ],
          "name": "stderr"
        },
        {
          "output_type": "stream",
          "text": [
            "Train - Epoch 5, Batch: 220, Loss: 0.016281\n",
            "Train - Epoch 5, Batch: 230, Loss: 0.012628\n"
          ],
          "name": "stdout"
        },
        {
          "output_type": "stream",
          "text": [
            "[Errno 99] Cannot assign requested address\n"
          ],
          "name": "stderr"
        },
        {
          "output_type": "stream",
          "text": [
            "Test Avg. Loss: 0.000032, Accuracy: 0.991700\n",
            "Train - Epoch 6, Batch: 0, Loss: 0.001634\n"
          ],
          "name": "stdout"
        },
        {
          "output_type": "stream",
          "text": [
            "[Errno 99] Cannot assign requested address\n"
          ],
          "name": "stderr"
        },
        {
          "output_type": "stream",
          "text": [
            "Train - Epoch 6, Batch: 10, Loss: 0.002475\n",
            "Train - Epoch 6, Batch: 20, Loss: 0.002203\n",
            "Train - Epoch 6, Batch: 30, Loss: 0.001760\n"
          ],
          "name": "stdout"
        },
        {
          "output_type": "stream",
          "text": [
            "[Errno 99] Cannot assign requested address\n"
          ],
          "name": "stderr"
        },
        {
          "output_type": "stream",
          "text": [
            "Train - Epoch 6, Batch: 40, Loss: 0.001732\n",
            "Train - Epoch 6, Batch: 50, Loss: 0.006267\n",
            "Train - Epoch 6, Batch: 60, Loss: 0.026785\n"
          ],
          "name": "stdout"
        },
        {
          "output_type": "stream",
          "text": [
            "[Errno 99] Cannot assign requested address\n"
          ],
          "name": "stderr"
        },
        {
          "output_type": "stream",
          "text": [
            "Train - Epoch 6, Batch: 70, Loss: 0.002948\n",
            "Train - Epoch 6, Batch: 80, Loss: 0.007790\n",
            "Train - Epoch 6, Batch: 90, Loss: 0.007541\n"
          ],
          "name": "stdout"
        },
        {
          "output_type": "stream",
          "text": [
            "[Errno 99] Cannot assign requested address\n"
          ],
          "name": "stderr"
        },
        {
          "output_type": "stream",
          "text": [
            "Train - Epoch 6, Batch: 100, Loss: 0.000212\n",
            "Train - Epoch 6, Batch: 110, Loss: 0.001957\n",
            "Train - Epoch 6, Batch: 120, Loss: 0.003909\n"
          ],
          "name": "stdout"
        },
        {
          "output_type": "stream",
          "text": [
            "[Errno 99] Cannot assign requested address\n"
          ],
          "name": "stderr"
        },
        {
          "output_type": "stream",
          "text": [
            "Train - Epoch 6, Batch: 130, Loss: 0.012816\n",
            "Train - Epoch 6, Batch: 140, Loss: 0.001625\n",
            "Train - Epoch 6, Batch: 150, Loss: 0.002509\n"
          ],
          "name": "stdout"
        },
        {
          "output_type": "stream",
          "text": [
            "[Errno 99] Cannot assign requested address\n"
          ],
          "name": "stderr"
        },
        {
          "output_type": "stream",
          "text": [
            "Train - Epoch 6, Batch: 160, Loss: 0.003829\n",
            "Train - Epoch 6, Batch: 170, Loss: 0.002401\n",
            "Train - Epoch 6, Batch: 180, Loss: 0.003191\n"
          ],
          "name": "stdout"
        },
        {
          "output_type": "stream",
          "text": [
            "[Errno 99] Cannot assign requested address\n"
          ],
          "name": "stderr"
        },
        {
          "output_type": "stream",
          "text": [
            "Train - Epoch 6, Batch: 190, Loss: 0.010969\n",
            "Train - Epoch 6, Batch: 200, Loss: 0.000890\n",
            "Train - Epoch 6, Batch: 210, Loss: 0.021293\n"
          ],
          "name": "stdout"
        },
        {
          "output_type": "stream",
          "text": [
            "[Errno 99] Cannot assign requested address\n"
          ],
          "name": "stderr"
        },
        {
          "output_type": "stream",
          "text": [
            "Train - Epoch 6, Batch: 220, Loss: 0.003438\n",
            "Train - Epoch 6, Batch: 230, Loss: 0.000263\n"
          ],
          "name": "stdout"
        },
        {
          "output_type": "stream",
          "text": [
            "[Errno 99] Cannot assign requested address\n"
          ],
          "name": "stderr"
        },
        {
          "output_type": "stream",
          "text": [
            "Test Avg. Loss: 0.000036, Accuracy: 0.990800\n",
            "Train - Epoch 7, Batch: 0, Loss: 0.003783\n"
          ],
          "name": "stdout"
        },
        {
          "output_type": "stream",
          "text": [
            "[Errno 99] Cannot assign requested address\n"
          ],
          "name": "stderr"
        },
        {
          "output_type": "stream",
          "text": [
            "Train - Epoch 7, Batch: 10, Loss: 0.000579\n",
            "Train - Epoch 7, Batch: 20, Loss: 0.001718\n",
            "Train - Epoch 7, Batch: 30, Loss: 0.002355\n"
          ],
          "name": "stdout"
        },
        {
          "output_type": "stream",
          "text": [
            "[Errno 99] Cannot assign requested address\n"
          ],
          "name": "stderr"
        },
        {
          "output_type": "stream",
          "text": [
            "Train - Epoch 7, Batch: 40, Loss: 0.001172\n",
            "Train - Epoch 7, Batch: 50, Loss: 0.010394\n",
            "Train - Epoch 7, Batch: 60, Loss: 0.007382\n"
          ],
          "name": "stdout"
        },
        {
          "output_type": "stream",
          "text": [
            "[Errno 99] Cannot assign requested address\n"
          ],
          "name": "stderr"
        },
        {
          "output_type": "stream",
          "text": [
            "Train - Epoch 7, Batch: 70, Loss: 0.004488\n",
            "Train - Epoch 7, Batch: 80, Loss: 0.032877\n",
            "Train - Epoch 7, Batch: 90, Loss: 0.003797\n"
          ],
          "name": "stdout"
        },
        {
          "output_type": "stream",
          "text": [
            "[Errno 99] Cannot assign requested address\n"
          ],
          "name": "stderr"
        },
        {
          "output_type": "stream",
          "text": [
            "Train - Epoch 7, Batch: 100, Loss: 0.001166\n",
            "Train - Epoch 7, Batch: 110, Loss: 0.013244\n",
            "Train - Epoch 7, Batch: 120, Loss: 0.007420\n"
          ],
          "name": "stdout"
        },
        {
          "output_type": "stream",
          "text": [
            "[Errno 99] Cannot assign requested address\n"
          ],
          "name": "stderr"
        },
        {
          "output_type": "stream",
          "text": [
            "Train - Epoch 7, Batch: 130, Loss: 0.010892\n",
            "Train - Epoch 7, Batch: 140, Loss: 0.000927\n",
            "Train - Epoch 7, Batch: 150, Loss: 0.014981\n"
          ],
          "name": "stdout"
        },
        {
          "output_type": "stream",
          "text": [
            "[Errno 99] Cannot assign requested address\n"
          ],
          "name": "stderr"
        },
        {
          "output_type": "stream",
          "text": [
            "Train - Epoch 7, Batch: 160, Loss: 0.023773\n",
            "Train - Epoch 7, Batch: 170, Loss: 0.014870\n",
            "Train - Epoch 7, Batch: 180, Loss: 0.021342\n"
          ],
          "name": "stdout"
        },
        {
          "output_type": "stream",
          "text": [
            "[Errno 99] Cannot assign requested address\n"
          ],
          "name": "stderr"
        },
        {
          "output_type": "stream",
          "text": [
            "Train - Epoch 7, Batch: 190, Loss: 0.009299\n",
            "Train - Epoch 7, Batch: 200, Loss: 0.005468\n",
            "Train - Epoch 7, Batch: 210, Loss: 0.039225\n"
          ],
          "name": "stdout"
        },
        {
          "output_type": "stream",
          "text": [
            "[Errno 99] Cannot assign requested address\n"
          ],
          "name": "stderr"
        },
        {
          "output_type": "stream",
          "text": [
            "Train - Epoch 7, Batch: 220, Loss: 0.011255\n",
            "Train - Epoch 7, Batch: 230, Loss: 0.022857\n"
          ],
          "name": "stdout"
        },
        {
          "output_type": "stream",
          "text": [
            "[Errno 99] Cannot assign requested address\n"
          ],
          "name": "stderr"
        },
        {
          "output_type": "stream",
          "text": [
            "Test Avg. Loss: 0.000041, Accuracy: 0.990000\n",
            "Train - Epoch 8, Batch: 0, Loss: 0.004623\n"
          ],
          "name": "stdout"
        },
        {
          "output_type": "stream",
          "text": [
            "[Errno 99] Cannot assign requested address\n"
          ],
          "name": "stderr"
        },
        {
          "output_type": "stream",
          "text": [
            "Train - Epoch 8, Batch: 10, Loss: 0.001225\n",
            "Train - Epoch 8, Batch: 20, Loss: 0.012276\n"
          ],
          "name": "stdout"
        },
        {
          "output_type": "stream",
          "text": [
            "[Errno 99] Cannot assign requested address\n"
          ],
          "name": "stderr"
        },
        {
          "output_type": "stream",
          "text": [
            "Train - Epoch 8, Batch: 30, Loss: 0.014648\n",
            "Train - Epoch 8, Batch: 40, Loss: 0.034405\n",
            "Train - Epoch 8, Batch: 50, Loss: 0.003028\n"
          ],
          "name": "stdout"
        },
        {
          "output_type": "stream",
          "text": [
            "[Errno 99] Cannot assign requested address\n"
          ],
          "name": "stderr"
        },
        {
          "output_type": "stream",
          "text": [
            "Train - Epoch 8, Batch: 60, Loss: 0.062460\n",
            "Train - Epoch 8, Batch: 70, Loss: 0.007645\n",
            "Train - Epoch 8, Batch: 80, Loss: 0.012852\n"
          ],
          "name": "stdout"
        },
        {
          "output_type": "stream",
          "text": [
            "[Errno 99] Cannot assign requested address\n"
          ],
          "name": "stderr"
        },
        {
          "output_type": "stream",
          "text": [
            "Train - Epoch 8, Batch: 90, Loss: 0.008375\n",
            "Train - Epoch 8, Batch: 100, Loss: 0.003069\n",
            "Train - Epoch 8, Batch: 110, Loss: 0.002096\n"
          ],
          "name": "stdout"
        },
        {
          "output_type": "stream",
          "text": [
            "[Errno 99] Cannot assign requested address\n"
          ],
          "name": "stderr"
        },
        {
          "output_type": "stream",
          "text": [
            "Train - Epoch 8, Batch: 120, Loss: 0.018757\n",
            "Train - Epoch 8, Batch: 130, Loss: 0.001651\n",
            "Train - Epoch 8, Batch: 140, Loss: 0.025818\n",
            "Train - Epoch 8, Batch: 150, Loss: 0.005840\n"
          ],
          "name": "stdout"
        },
        {
          "output_type": "stream",
          "text": [
            "[Errno 99] Cannot assign requested address\n"
          ],
          "name": "stderr"
        },
        {
          "output_type": "stream",
          "text": [
            "Train - Epoch 8, Batch: 160, Loss: 0.000967\n",
            "Train - Epoch 8, Batch: 170, Loss: 0.005041\n",
            "Train - Epoch 8, Batch: 180, Loss: 0.021306\n"
          ],
          "name": "stdout"
        },
        {
          "output_type": "stream",
          "text": [
            "[Errno 99] Cannot assign requested address\n"
          ],
          "name": "stderr"
        },
        {
          "output_type": "stream",
          "text": [
            "Train - Epoch 8, Batch: 190, Loss: 0.015398\n",
            "Train - Epoch 8, Batch: 200, Loss: 0.031712\n",
            "Train - Epoch 8, Batch: 210, Loss: 0.006970\n"
          ],
          "name": "stdout"
        },
        {
          "output_type": "stream",
          "text": [
            "[Errno 99] Cannot assign requested address\n"
          ],
          "name": "stderr"
        },
        {
          "output_type": "stream",
          "text": [
            "Train - Epoch 8, Batch: 220, Loss: 0.001508\n",
            "Train - Epoch 8, Batch: 230, Loss: 0.011702\n"
          ],
          "name": "stdout"
        },
        {
          "output_type": "stream",
          "text": [
            "[Errno 99] Cannot assign requested address\n"
          ],
          "name": "stderr"
        },
        {
          "output_type": "stream",
          "text": [
            "Test Avg. Loss: 0.000039, Accuracy: 0.991000\n"
          ],
          "name": "stdout"
        },
        {
          "output_type": "stream",
          "text": [
            "[Errno 99] Cannot assign requested address\n"
          ],
          "name": "stderr"
        },
        {
          "output_type": "stream",
          "text": [
            "Train - Epoch 9, Batch: 0, Loss: 0.003304\n",
            "Train - Epoch 9, Batch: 10, Loss: 0.002288\n",
            "Train - Epoch 9, Batch: 20, Loss: 0.001650\n"
          ],
          "name": "stdout"
        },
        {
          "output_type": "stream",
          "text": [
            "[Errno 99] Cannot assign requested address\n"
          ],
          "name": "stderr"
        },
        {
          "output_type": "stream",
          "text": [
            "Train - Epoch 9, Batch: 30, Loss: 0.001853\n",
            "Train - Epoch 9, Batch: 40, Loss: 0.005971\n",
            "Train - Epoch 9, Batch: 50, Loss: 0.002951\n"
          ],
          "name": "stdout"
        },
        {
          "output_type": "stream",
          "text": [
            "[Errno 99] Cannot assign requested address\n"
          ],
          "name": "stderr"
        },
        {
          "output_type": "stream",
          "text": [
            "Train - Epoch 9, Batch: 60, Loss: 0.005465\n",
            "Train - Epoch 9, Batch: 70, Loss: 0.009178\n",
            "Train - Epoch 9, Batch: 80, Loss: 0.012245\n"
          ],
          "name": "stdout"
        },
        {
          "output_type": "stream",
          "text": [
            "[Errno 99] Cannot assign requested address\n"
          ],
          "name": "stderr"
        },
        {
          "output_type": "stream",
          "text": [
            "Train - Epoch 9, Batch: 90, Loss: 0.001545\n",
            "Train - Epoch 9, Batch: 100, Loss: 0.004251\n",
            "Train - Epoch 9, Batch: 110, Loss: 0.000307\n"
          ],
          "name": "stdout"
        },
        {
          "output_type": "stream",
          "text": [
            "[Errno 99] Cannot assign requested address\n"
          ],
          "name": "stderr"
        },
        {
          "output_type": "stream",
          "text": [
            "Train - Epoch 9, Batch: 120, Loss: 0.026709\n",
            "Train - Epoch 9, Batch: 130, Loss: 0.011265\n",
            "Train - Epoch 9, Batch: 140, Loss: 0.001701\n"
          ],
          "name": "stdout"
        },
        {
          "output_type": "stream",
          "text": [
            "[Errno 99] Cannot assign requested address\n"
          ],
          "name": "stderr"
        },
        {
          "output_type": "stream",
          "text": [
            "Train - Epoch 9, Batch: 150, Loss: 0.003542\n",
            "Train - Epoch 9, Batch: 160, Loss: 0.009758\n",
            "Train - Epoch 9, Batch: 170, Loss: 0.006672\n"
          ],
          "name": "stdout"
        },
        {
          "output_type": "stream",
          "text": [
            "[Errno 99] Cannot assign requested address\n"
          ],
          "name": "stderr"
        },
        {
          "output_type": "stream",
          "text": [
            "Train - Epoch 9, Batch: 180, Loss: 0.022687\n",
            "Train - Epoch 9, Batch: 190, Loss: 0.003700\n",
            "Train - Epoch 9, Batch: 200, Loss: 0.000735\n"
          ],
          "name": "stdout"
        },
        {
          "output_type": "stream",
          "text": [
            "[Errno 99] Cannot assign requested address\n"
          ],
          "name": "stderr"
        },
        {
          "output_type": "stream",
          "text": [
            "Train - Epoch 9, Batch: 210, Loss: 0.002877\n",
            "Train - Epoch 9, Batch: 220, Loss: 0.013848\n",
            "Train - Epoch 9, Batch: 230, Loss: 0.008751\n"
          ],
          "name": "stdout"
        },
        {
          "output_type": "stream",
          "text": [
            "[Errno 99] Cannot assign requested address\n"
          ],
          "name": "stderr"
        },
        {
          "output_type": "stream",
          "text": [
            "Test Avg. Loss: 0.000049, Accuracy: 0.988900\n"
          ],
          "name": "stdout"
        },
        {
          "output_type": "stream",
          "text": [
            "[Errno 99] Cannot assign requested address\n"
          ],
          "name": "stderr"
        },
        {
          "output_type": "stream",
          "text": [
            "Train - Epoch 10, Batch: 0, Loss: 0.004092\n",
            "Train - Epoch 10, Batch: 10, Loss: 0.009193\n",
            "Train - Epoch 10, Batch: 20, Loss: 0.000320\n"
          ],
          "name": "stdout"
        },
        {
          "output_type": "stream",
          "text": [
            "[Errno 99] Cannot assign requested address\n"
          ],
          "name": "stderr"
        },
        {
          "output_type": "stream",
          "text": [
            "Train - Epoch 10, Batch: 30, Loss: 0.002584\n",
            "Train - Epoch 10, Batch: 40, Loss: 0.000489\n",
            "Train - Epoch 10, Batch: 50, Loss: 0.025442\n"
          ],
          "name": "stdout"
        },
        {
          "output_type": "stream",
          "text": [
            "[Errno 99] Cannot assign requested address\n"
          ],
          "name": "stderr"
        },
        {
          "output_type": "stream",
          "text": [
            "Train - Epoch 10, Batch: 60, Loss: 0.001350\n",
            "Train - Epoch 10, Batch: 70, Loss: 0.018350\n",
            "Train - Epoch 10, Batch: 80, Loss: 0.013844\n"
          ],
          "name": "stdout"
        },
        {
          "output_type": "stream",
          "text": [
            "[Errno 99] Cannot assign requested address\n"
          ],
          "name": "stderr"
        },
        {
          "output_type": "stream",
          "text": [
            "Train - Epoch 10, Batch: 90, Loss: 0.016266\n",
            "Train - Epoch 10, Batch: 100, Loss: 0.003397\n",
            "Train - Epoch 10, Batch: 110, Loss: 0.005804\n"
          ],
          "name": "stdout"
        },
        {
          "output_type": "stream",
          "text": [
            "[Errno 99] Cannot assign requested address\n"
          ],
          "name": "stderr"
        },
        {
          "output_type": "stream",
          "text": [
            "Train - Epoch 10, Batch: 120, Loss: 0.004228\n",
            "Train - Epoch 10, Batch: 130, Loss: 0.001173\n",
            "Train - Epoch 10, Batch: 140, Loss: 0.009714\n"
          ],
          "name": "stdout"
        },
        {
          "output_type": "stream",
          "text": [
            "[Errno 99] Cannot assign requested address\n"
          ],
          "name": "stderr"
        },
        {
          "output_type": "stream",
          "text": [
            "Train - Epoch 10, Batch: 150, Loss: 0.025369\n",
            "Train - Epoch 10, Batch: 160, Loss: 0.021721\n",
            "Train - Epoch 10, Batch: 170, Loss: 0.014381\n"
          ],
          "name": "stdout"
        },
        {
          "output_type": "stream",
          "text": [
            "[Errno 99] Cannot assign requested address\n"
          ],
          "name": "stderr"
        },
        {
          "output_type": "stream",
          "text": [
            "Train - Epoch 10, Batch: 180, Loss: 0.003137\n",
            "Train - Epoch 10, Batch: 190, Loss: 0.004540\n",
            "Train - Epoch 10, Batch: 200, Loss: 0.017445\n"
          ],
          "name": "stdout"
        },
        {
          "output_type": "stream",
          "text": [
            "[Errno 99] Cannot assign requested address\n"
          ],
          "name": "stderr"
        },
        {
          "output_type": "stream",
          "text": [
            "Train - Epoch 10, Batch: 210, Loss: 0.000408\n",
            "Train - Epoch 10, Batch: 220, Loss: 0.000192\n",
            "Train - Epoch 10, Batch: 230, Loss: 0.004414\n"
          ],
          "name": "stdout"
        },
        {
          "output_type": "stream",
          "text": [
            "[Errno 99] Cannot assign requested address\n"
          ],
          "name": "stderr"
        },
        {
          "output_type": "stream",
          "text": [
            "Test Avg. Loss: 0.000040, Accuracy: 0.990400\n"
          ],
          "name": "stdout"
        },
        {
          "output_type": "stream",
          "text": [
            "[Errno 99] Cannot assign requested address\n"
          ],
          "name": "stderr"
        },
        {
          "output_type": "stream",
          "text": [
            "Train - Epoch 11, Batch: 0, Loss: 0.001420\n",
            "Train - Epoch 11, Batch: 10, Loss: 0.009857\n",
            "Train - Epoch 11, Batch: 20, Loss: 0.004076\n"
          ],
          "name": "stdout"
        },
        {
          "output_type": "stream",
          "text": [
            "[Errno 99] Cannot assign requested address\n"
          ],
          "name": "stderr"
        },
        {
          "output_type": "stream",
          "text": [
            "Train - Epoch 11, Batch: 30, Loss: 0.008943\n",
            "Train - Epoch 11, Batch: 40, Loss: 0.002092\n",
            "Train - Epoch 11, Batch: 50, Loss: 0.015438\n"
          ],
          "name": "stdout"
        },
        {
          "output_type": "stream",
          "text": [
            "[Errno 99] Cannot assign requested address\n"
          ],
          "name": "stderr"
        },
        {
          "output_type": "stream",
          "text": [
            "Train - Epoch 11, Batch: 60, Loss: 0.025411\n",
            "Train - Epoch 11, Batch: 70, Loss: 0.013118\n",
            "Train - Epoch 11, Batch: 80, Loss: 0.002474\n"
          ],
          "name": "stdout"
        },
        {
          "output_type": "stream",
          "text": [
            "[Errno 99] Cannot assign requested address\n"
          ],
          "name": "stderr"
        },
        {
          "output_type": "stream",
          "text": [
            "Train - Epoch 11, Batch: 90, Loss: 0.005016\n",
            "Train - Epoch 11, Batch: 100, Loss: 0.001243\n",
            "Train - Epoch 11, Batch: 110, Loss: 0.009992\n"
          ],
          "name": "stdout"
        },
        {
          "output_type": "stream",
          "text": [
            "[Errno 99] Cannot assign requested address\n"
          ],
          "name": "stderr"
        },
        {
          "output_type": "stream",
          "text": [
            "Train - Epoch 11, Batch: 120, Loss: 0.002417\n",
            "Train - Epoch 11, Batch: 130, Loss: 0.017302\n",
            "Train - Epoch 11, Batch: 140, Loss: 0.001149\n"
          ],
          "name": "stdout"
        },
        {
          "output_type": "stream",
          "text": [
            "[Errno 99] Cannot assign requested address\n"
          ],
          "name": "stderr"
        },
        {
          "output_type": "stream",
          "text": [
            "Train - Epoch 11, Batch: 150, Loss: 0.007474\n",
            "Train - Epoch 11, Batch: 160, Loss: 0.000658\n",
            "Train - Epoch 11, Batch: 170, Loss: 0.002114\n"
          ],
          "name": "stdout"
        },
        {
          "output_type": "stream",
          "text": [
            "[Errno 99] Cannot assign requested address\n"
          ],
          "name": "stderr"
        },
        {
          "output_type": "stream",
          "text": [
            "Train - Epoch 11, Batch: 180, Loss: 0.006602\n",
            "Train - Epoch 11, Batch: 190, Loss: 0.004731\n",
            "Train - Epoch 11, Batch: 200, Loss: 0.017881\n"
          ],
          "name": "stdout"
        },
        {
          "output_type": "stream",
          "text": [
            "[Errno 99] Cannot assign requested address\n"
          ],
          "name": "stderr"
        },
        {
          "output_type": "stream",
          "text": [
            "Train - Epoch 11, Batch: 210, Loss: 0.002231\n",
            "Train - Epoch 11, Batch: 220, Loss: 0.031610\n",
            "Train - Epoch 11, Batch: 230, Loss: 0.053692\n"
          ],
          "name": "stdout"
        },
        {
          "output_type": "stream",
          "text": [
            "[Errno 99] Cannot assign requested address\n",
            "[Errno 99] Cannot assign requested address\n"
          ],
          "name": "stderr"
        },
        {
          "output_type": "stream",
          "text": [
            "Test Avg. Loss: 0.000049, Accuracy: 0.988400\n",
            "Train - Epoch 12, Batch: 0, Loss: 0.007591\n",
            "Train - Epoch 12, Batch: 10, Loss: 0.001970\n",
            "Train - Epoch 12, Batch: 20, Loss: 0.028387\n"
          ],
          "name": "stdout"
        },
        {
          "output_type": "stream",
          "text": [
            "[Errno 99] Cannot assign requested address\n"
          ],
          "name": "stderr"
        },
        {
          "output_type": "stream",
          "text": [
            "Train - Epoch 12, Batch: 30, Loss: 0.017245\n",
            "Train - Epoch 12, Batch: 40, Loss: 0.004614\n",
            "Train - Epoch 12, Batch: 50, Loss: 0.002244\n"
          ],
          "name": "stdout"
        },
        {
          "output_type": "stream",
          "text": [
            "[Errno 99] Cannot assign requested address\n"
          ],
          "name": "stderr"
        },
        {
          "output_type": "stream",
          "text": [
            "Train - Epoch 12, Batch: 60, Loss: 0.020115\n",
            "Train - Epoch 12, Batch: 70, Loss: 0.003235\n",
            "Train - Epoch 12, Batch: 80, Loss: 0.001384\n"
          ],
          "name": "stdout"
        },
        {
          "output_type": "stream",
          "text": [
            "[Errno 99] Cannot assign requested address\n"
          ],
          "name": "stderr"
        },
        {
          "output_type": "stream",
          "text": [
            "Train - Epoch 12, Batch: 90, Loss: 0.000708\n",
            "Train - Epoch 12, Batch: 100, Loss: 0.011116\n",
            "Train - Epoch 12, Batch: 110, Loss: 0.022384\n"
          ],
          "name": "stdout"
        },
        {
          "output_type": "stream",
          "text": [
            "[Errno 99] Cannot assign requested address\n"
          ],
          "name": "stderr"
        },
        {
          "output_type": "stream",
          "text": [
            "Train - Epoch 12, Batch: 120, Loss: 0.002445\n",
            "Train - Epoch 12, Batch: 130, Loss: 0.000135\n",
            "Train - Epoch 12, Batch: 140, Loss: 0.007958\n"
          ],
          "name": "stdout"
        },
        {
          "output_type": "stream",
          "text": [
            "[Errno 99] Cannot assign requested address\n"
          ],
          "name": "stderr"
        },
        {
          "output_type": "stream",
          "text": [
            "Train - Epoch 12, Batch: 150, Loss: 0.012909\n",
            "Train - Epoch 12, Batch: 160, Loss: 0.009560\n",
            "Train - Epoch 12, Batch: 170, Loss: 0.004277\n"
          ],
          "name": "stdout"
        },
        {
          "output_type": "stream",
          "text": [
            "[Errno 99] Cannot assign requested address\n"
          ],
          "name": "stderr"
        },
        {
          "output_type": "stream",
          "text": [
            "Train - Epoch 12, Batch: 180, Loss: 0.001042\n",
            "Train - Epoch 12, Batch: 190, Loss: 0.005879\n",
            "Train - Epoch 12, Batch: 200, Loss: 0.019158\n"
          ],
          "name": "stdout"
        },
        {
          "output_type": "stream",
          "text": [
            "[Errno 99] Cannot assign requested address\n"
          ],
          "name": "stderr"
        },
        {
          "output_type": "stream",
          "text": [
            "Train - Epoch 12, Batch: 210, Loss: 0.002871\n",
            "Train - Epoch 12, Batch: 220, Loss: 0.000102\n",
            "Train - Epoch 12, Batch: 230, Loss: 0.016262\n"
          ],
          "name": "stdout"
        },
        {
          "output_type": "stream",
          "text": [
            "[Errno 99] Cannot assign requested address\n"
          ],
          "name": "stderr"
        },
        {
          "output_type": "error",
          "ename": "KeyboardInterrupt",
          "evalue": "ignored",
          "traceback": [
            "\u001b[0;31m---------------------------------------------------------------------------\u001b[0m",
            "\u001b[0;31mKeyboardInterrupt\u001b[0m                         Traceback (most recent call last)",
            "\u001b[0;32m<ipython-input-57-8543a039bde4>\u001b[0m in \u001b[0;36m<module>\u001b[0;34m()\u001b[0m\n\u001b[1;32m      6\u001b[0m \u001b[0;34m\u001b[0m\u001b[0m\n\u001b[1;32m      7\u001b[0m \u001b[0;32mfor\u001b[0m \u001b[0me\u001b[0m \u001b[0;32min\u001b[0m \u001b[0mrange\u001b[0m\u001b[0;34m(\u001b[0m\u001b[0;36m1\u001b[0m\u001b[0;34m,\u001b[0m \u001b[0;36m16\u001b[0m\u001b[0;34m)\u001b[0m\u001b[0;34m:\u001b[0m\u001b[0;34m\u001b[0m\u001b[0;34m\u001b[0m\u001b[0m\n\u001b[0;32m----> 8\u001b[0;31m   \u001b[0mtrain_and_test\u001b[0m\u001b[0;34m(\u001b[0m\u001b[0me\u001b[0m\u001b[0;34m)\u001b[0m\u001b[0;34m\u001b[0m\u001b[0;34m\u001b[0m\u001b[0m\n\u001b[0m",
            "\u001b[0;32m<ipython-input-57-8543a039bde4>\u001b[0m in \u001b[0;36mtrain_and_test\u001b[0;34m(epoch)\u001b[0m\n\u001b[1;32m      1\u001b[0m \u001b[0;32mdef\u001b[0m \u001b[0mtrain_and_test\u001b[0m\u001b[0;34m(\u001b[0m\u001b[0mepoch\u001b[0m\u001b[0;34m)\u001b[0m\u001b[0;34m:\u001b[0m\u001b[0;34m\u001b[0m\u001b[0;34m\u001b[0m\u001b[0m\n\u001b[1;32m      2\u001b[0m   \u001b[0mtrain\u001b[0m\u001b[0;34m(\u001b[0m\u001b[0mepoch\u001b[0m\u001b[0;34m)\u001b[0m\u001b[0;34m\u001b[0m\u001b[0;34m\u001b[0m\u001b[0m\n\u001b[0;32m----> 3\u001b[0;31m   \u001b[0mtest\u001b[0m\u001b[0;34m(\u001b[0m\u001b[0;34m)\u001b[0m\u001b[0;34m\u001b[0m\u001b[0;34m\u001b[0m\u001b[0m\n\u001b[0m\u001b[1;32m      4\u001b[0m   \u001b[0mdummy_input\u001b[0m \u001b[0;34m=\u001b[0m \u001b[0mtorch\u001b[0m\u001b[0;34m.\u001b[0m\u001b[0mrandn\u001b[0m\u001b[0;34m(\u001b[0m\u001b[0;36m1\u001b[0m\u001b[0;34m,\u001b[0m \u001b[0;36m1\u001b[0m\u001b[0;34m,\u001b[0m \u001b[0;36m32\u001b[0m\u001b[0;34m,\u001b[0m \u001b[0;36m32\u001b[0m\u001b[0;34m,\u001b[0m \u001b[0mrequires_grad\u001b[0m\u001b[0;34m=\u001b[0m\u001b[0;32mTrue\u001b[0m\u001b[0;34m)\u001b[0m\u001b[0;34m\u001b[0m\u001b[0;34m\u001b[0m\u001b[0m\n\u001b[1;32m      5\u001b[0m \u001b[0;34m\u001b[0m\u001b[0m\n",
            "\u001b[0;32m<ipython-input-55-c57011e989d9>\u001b[0m in \u001b[0;36mtest\u001b[0;34m()\u001b[0m\n\u001b[1;32m     24\u001b[0m   \u001b[0mavg_loss\u001b[0m \u001b[0;34m=\u001b[0m \u001b[0;36m0.0\u001b[0m\u001b[0;34m\u001b[0m\u001b[0;34m\u001b[0m\u001b[0m\n\u001b[1;32m     25\u001b[0m   \u001b[0;32mfor\u001b[0m \u001b[0mi\u001b[0m\u001b[0;34m,\u001b[0m \u001b[0;34m(\u001b[0m\u001b[0mimages\u001b[0m\u001b[0;34m,\u001b[0m \u001b[0mlabels\u001b[0m\u001b[0;34m)\u001b[0m \u001b[0;32min\u001b[0m \u001b[0menumerate\u001b[0m\u001b[0;34m(\u001b[0m\u001b[0mdata_test_loader\u001b[0m\u001b[0;34m)\u001b[0m\u001b[0;34m:\u001b[0m\u001b[0;34m\u001b[0m\u001b[0;34m\u001b[0m\u001b[0m\n\u001b[0;32m---> 26\u001b[0;31m     \u001b[0moutput\u001b[0m \u001b[0;34m=\u001b[0m \u001b[0mnet\u001b[0m\u001b[0;34m(\u001b[0m\u001b[0mimages\u001b[0m\u001b[0;34m)\u001b[0m\u001b[0;34m\u001b[0m\u001b[0;34m\u001b[0m\u001b[0m\n\u001b[0m\u001b[1;32m     27\u001b[0m     \u001b[0mavg_loss\u001b[0m \u001b[0;34m+=\u001b[0m \u001b[0mcriterion\u001b[0m\u001b[0;34m(\u001b[0m\u001b[0moutput\u001b[0m\u001b[0;34m,\u001b[0m \u001b[0mlabels\u001b[0m\u001b[0;34m)\u001b[0m\u001b[0;34m.\u001b[0m\u001b[0msum\u001b[0m\u001b[0;34m(\u001b[0m\u001b[0;34m)\u001b[0m\u001b[0;34m\u001b[0m\u001b[0;34m\u001b[0m\u001b[0m\n\u001b[1;32m     28\u001b[0m     \u001b[0mpred\u001b[0m \u001b[0;34m=\u001b[0m \u001b[0moutput\u001b[0m\u001b[0;34m.\u001b[0m\u001b[0mdetach\u001b[0m\u001b[0;34m(\u001b[0m\u001b[0;34m)\u001b[0m\u001b[0;34m.\u001b[0m\u001b[0mmax\u001b[0m\u001b[0;34m(\u001b[0m\u001b[0;36m1\u001b[0m\u001b[0;34m)\u001b[0m\u001b[0;34m[\u001b[0m\u001b[0;36m1\u001b[0m\u001b[0;34m]\u001b[0m\u001b[0;34m\u001b[0m\u001b[0;34m\u001b[0m\u001b[0m\n",
            "\u001b[0;32m/usr/local/lib/python3.7/dist-packages/torch/nn/modules/module.py\u001b[0m in \u001b[0;36m_call_impl\u001b[0;34m(self, *input, **kwargs)\u001b[0m\n\u001b[1;32m   1049\u001b[0m         if not (self._backward_hooks or self._forward_hooks or self._forward_pre_hooks or _global_backward_hooks\n\u001b[1;32m   1050\u001b[0m                 or _global_forward_hooks or _global_forward_pre_hooks):\n\u001b[0;32m-> 1051\u001b[0;31m             \u001b[0;32mreturn\u001b[0m \u001b[0mforward_call\u001b[0m\u001b[0;34m(\u001b[0m\u001b[0;34m*\u001b[0m\u001b[0minput\u001b[0m\u001b[0;34m,\u001b[0m \u001b[0;34m**\u001b[0m\u001b[0mkwargs\u001b[0m\u001b[0;34m)\u001b[0m\u001b[0;34m\u001b[0m\u001b[0;34m\u001b[0m\u001b[0m\n\u001b[0m\u001b[1;32m   1052\u001b[0m         \u001b[0;31m# Do not call functions when jit is used\u001b[0m\u001b[0;34m\u001b[0m\u001b[0;34m\u001b[0m\u001b[0;34m\u001b[0m\u001b[0m\n\u001b[1;32m   1053\u001b[0m         \u001b[0mfull_backward_hooks\u001b[0m\u001b[0;34m,\u001b[0m \u001b[0mnon_full_backward_hooks\u001b[0m \u001b[0;34m=\u001b[0m \u001b[0;34m[\u001b[0m\u001b[0;34m]\u001b[0m\u001b[0;34m,\u001b[0m \u001b[0;34m[\u001b[0m\u001b[0;34m]\u001b[0m\u001b[0;34m\u001b[0m\u001b[0;34m\u001b[0m\u001b[0m\n",
            "\u001b[0;32m<ipython-input-52-83ccecc5bf06>\u001b[0m in \u001b[0;36mforward\u001b[0;34m(self, img)\u001b[0m\n\u001b[1;32m     78\u001b[0m     \u001b[0moutput\u001b[0m \u001b[0;34m=\u001b[0m \u001b[0mself\u001b[0m\u001b[0;34m.\u001b[0m\u001b[0mc1\u001b[0m\u001b[0;34m(\u001b[0m\u001b[0mimg\u001b[0m\u001b[0;34m)\u001b[0m\u001b[0;34m\u001b[0m\u001b[0;34m\u001b[0m\u001b[0m\n\u001b[1;32m     79\u001b[0m \u001b[0;34m\u001b[0m\u001b[0m\n\u001b[0;32m---> 80\u001b[0;31m     \u001b[0mx\u001b[0m \u001b[0;34m=\u001b[0m \u001b[0mself\u001b[0m\u001b[0;34m.\u001b[0m\u001b[0mc2_1\u001b[0m\u001b[0;34m(\u001b[0m\u001b[0moutput\u001b[0m\u001b[0;34m)\u001b[0m\u001b[0;34m\u001b[0m\u001b[0;34m\u001b[0m\u001b[0m\n\u001b[0m\u001b[1;32m     81\u001b[0m     \u001b[0moutput\u001b[0m \u001b[0;34m=\u001b[0m \u001b[0mself\u001b[0m\u001b[0;34m.\u001b[0m\u001b[0mc2_2\u001b[0m\u001b[0;34m(\u001b[0m\u001b[0moutput\u001b[0m\u001b[0;34m)\u001b[0m\u001b[0;34m\u001b[0m\u001b[0;34m\u001b[0m\u001b[0m\n\u001b[1;32m     82\u001b[0m \u001b[0;34m\u001b[0m\u001b[0m\n",
            "\u001b[0;32m/usr/local/lib/python3.7/dist-packages/torch/nn/modules/module.py\u001b[0m in \u001b[0;36m_call_impl\u001b[0;34m(self, *input, **kwargs)\u001b[0m\n\u001b[1;32m   1049\u001b[0m         if not (self._backward_hooks or self._forward_hooks or self._forward_pre_hooks or _global_backward_hooks\n\u001b[1;32m   1050\u001b[0m                 or _global_forward_hooks or _global_forward_pre_hooks):\n\u001b[0;32m-> 1051\u001b[0;31m             \u001b[0;32mreturn\u001b[0m \u001b[0mforward_call\u001b[0m\u001b[0;34m(\u001b[0m\u001b[0;34m*\u001b[0m\u001b[0minput\u001b[0m\u001b[0;34m,\u001b[0m \u001b[0;34m**\u001b[0m\u001b[0mkwargs\u001b[0m\u001b[0;34m)\u001b[0m\u001b[0;34m\u001b[0m\u001b[0;34m\u001b[0m\u001b[0m\n\u001b[0m\u001b[1;32m   1052\u001b[0m         \u001b[0;31m# Do not call functions when jit is used\u001b[0m\u001b[0;34m\u001b[0m\u001b[0;34m\u001b[0m\u001b[0;34m\u001b[0m\u001b[0m\n\u001b[1;32m   1053\u001b[0m         \u001b[0mfull_backward_hooks\u001b[0m\u001b[0;34m,\u001b[0m \u001b[0mnon_full_backward_hooks\u001b[0m \u001b[0;34m=\u001b[0m \u001b[0;34m[\u001b[0m\u001b[0;34m]\u001b[0m\u001b[0;34m,\u001b[0m \u001b[0;34m[\u001b[0m\u001b[0;34m]\u001b[0m\u001b[0;34m\u001b[0m\u001b[0;34m\u001b[0m\u001b[0m\n",
            "\u001b[0;32m<ipython-input-52-83ccecc5bf06>\u001b[0m in \u001b[0;36mforward\u001b[0;34m(self, img)\u001b[0m\n\u001b[1;32m     21\u001b[0m     ]))\n\u001b[1;32m     22\u001b[0m   \u001b[0;32mdef\u001b[0m \u001b[0mforward\u001b[0m\u001b[0;34m(\u001b[0m\u001b[0mself\u001b[0m\u001b[0;34m,\u001b[0m \u001b[0mimg\u001b[0m\u001b[0;34m)\u001b[0m\u001b[0;34m:\u001b[0m\u001b[0;34m\u001b[0m\u001b[0;34m\u001b[0m\u001b[0m\n\u001b[0;32m---> 23\u001b[0;31m     \u001b[0moutput\u001b[0m \u001b[0;34m=\u001b[0m \u001b[0mself\u001b[0m\u001b[0;34m.\u001b[0m\u001b[0mc2\u001b[0m\u001b[0;34m(\u001b[0m\u001b[0mimg\u001b[0m\u001b[0;34m)\u001b[0m\u001b[0;34m\u001b[0m\u001b[0;34m\u001b[0m\u001b[0m\n\u001b[0m\u001b[1;32m     24\u001b[0m     \u001b[0;32mreturn\u001b[0m \u001b[0moutput\u001b[0m\u001b[0;34m\u001b[0m\u001b[0;34m\u001b[0m\u001b[0m\n\u001b[1;32m     25\u001b[0m \u001b[0;34m\u001b[0m\u001b[0m\n",
            "\u001b[0;32m/usr/local/lib/python3.7/dist-packages/torch/nn/modules/module.py\u001b[0m in \u001b[0;36m_call_impl\u001b[0;34m(self, *input, **kwargs)\u001b[0m\n\u001b[1;32m   1049\u001b[0m         if not (self._backward_hooks or self._forward_hooks or self._forward_pre_hooks or _global_backward_hooks\n\u001b[1;32m   1050\u001b[0m                 or _global_forward_hooks or _global_forward_pre_hooks):\n\u001b[0;32m-> 1051\u001b[0;31m             \u001b[0;32mreturn\u001b[0m \u001b[0mforward_call\u001b[0m\u001b[0;34m(\u001b[0m\u001b[0;34m*\u001b[0m\u001b[0minput\u001b[0m\u001b[0;34m,\u001b[0m \u001b[0;34m**\u001b[0m\u001b[0mkwargs\u001b[0m\u001b[0;34m)\u001b[0m\u001b[0;34m\u001b[0m\u001b[0;34m\u001b[0m\u001b[0m\n\u001b[0m\u001b[1;32m   1052\u001b[0m         \u001b[0;31m# Do not call functions when jit is used\u001b[0m\u001b[0;34m\u001b[0m\u001b[0;34m\u001b[0m\u001b[0;34m\u001b[0m\u001b[0m\n\u001b[1;32m   1053\u001b[0m         \u001b[0mfull_backward_hooks\u001b[0m\u001b[0;34m,\u001b[0m \u001b[0mnon_full_backward_hooks\u001b[0m \u001b[0;34m=\u001b[0m \u001b[0;34m[\u001b[0m\u001b[0;34m]\u001b[0m\u001b[0;34m,\u001b[0m \u001b[0;34m[\u001b[0m\u001b[0;34m]\u001b[0m\u001b[0;34m\u001b[0m\u001b[0;34m\u001b[0m\u001b[0m\n",
            "\u001b[0;32m/usr/local/lib/python3.7/dist-packages/torch/nn/modules/container.py\u001b[0m in \u001b[0;36mforward\u001b[0;34m(self, input)\u001b[0m\n\u001b[1;32m    137\u001b[0m     \u001b[0;32mdef\u001b[0m \u001b[0mforward\u001b[0m\u001b[0;34m(\u001b[0m\u001b[0mself\u001b[0m\u001b[0;34m,\u001b[0m \u001b[0minput\u001b[0m\u001b[0;34m)\u001b[0m\u001b[0;34m:\u001b[0m\u001b[0;34m\u001b[0m\u001b[0;34m\u001b[0m\u001b[0m\n\u001b[1;32m    138\u001b[0m         \u001b[0;32mfor\u001b[0m \u001b[0mmodule\u001b[0m \u001b[0;32min\u001b[0m \u001b[0mself\u001b[0m\u001b[0;34m:\u001b[0m\u001b[0;34m\u001b[0m\u001b[0;34m\u001b[0m\u001b[0m\n\u001b[0;32m--> 139\u001b[0;31m             \u001b[0minput\u001b[0m \u001b[0;34m=\u001b[0m \u001b[0mmodule\u001b[0m\u001b[0;34m(\u001b[0m\u001b[0minput\u001b[0m\u001b[0;34m)\u001b[0m\u001b[0;34m\u001b[0m\u001b[0;34m\u001b[0m\u001b[0m\n\u001b[0m\u001b[1;32m    140\u001b[0m         \u001b[0;32mreturn\u001b[0m \u001b[0minput\u001b[0m\u001b[0;34m\u001b[0m\u001b[0;34m\u001b[0m\u001b[0m\n\u001b[1;32m    141\u001b[0m \u001b[0;34m\u001b[0m\u001b[0m\n",
            "\u001b[0;32m/usr/local/lib/python3.7/dist-packages/torch/nn/modules/module.py\u001b[0m in \u001b[0;36m_call_impl\u001b[0;34m(self, *input, **kwargs)\u001b[0m\n\u001b[1;32m   1049\u001b[0m         if not (self._backward_hooks or self._forward_hooks or self._forward_pre_hooks or _global_backward_hooks\n\u001b[1;32m   1050\u001b[0m                 or _global_forward_hooks or _global_forward_pre_hooks):\n\u001b[0;32m-> 1051\u001b[0;31m             \u001b[0;32mreturn\u001b[0m \u001b[0mforward_call\u001b[0m\u001b[0;34m(\u001b[0m\u001b[0;34m*\u001b[0m\u001b[0minput\u001b[0m\u001b[0;34m,\u001b[0m \u001b[0;34m**\u001b[0m\u001b[0mkwargs\u001b[0m\u001b[0;34m)\u001b[0m\u001b[0;34m\u001b[0m\u001b[0;34m\u001b[0m\u001b[0m\n\u001b[0m\u001b[1;32m   1052\u001b[0m         \u001b[0;31m# Do not call functions when jit is used\u001b[0m\u001b[0;34m\u001b[0m\u001b[0;34m\u001b[0m\u001b[0;34m\u001b[0m\u001b[0m\n\u001b[1;32m   1053\u001b[0m         \u001b[0mfull_backward_hooks\u001b[0m\u001b[0;34m,\u001b[0m \u001b[0mnon_full_backward_hooks\u001b[0m \u001b[0;34m=\u001b[0m \u001b[0;34m[\u001b[0m\u001b[0;34m]\u001b[0m\u001b[0;34m,\u001b[0m \u001b[0;34m[\u001b[0m\u001b[0;34m]\u001b[0m\u001b[0;34m\u001b[0m\u001b[0;34m\u001b[0m\u001b[0m\n",
            "\u001b[0;32m/usr/local/lib/python3.7/dist-packages/torch/nn/modules/conv.py\u001b[0m in \u001b[0;36mforward\u001b[0;34m(self, input)\u001b[0m\n\u001b[1;32m    441\u001b[0m \u001b[0;34m\u001b[0m\u001b[0m\n\u001b[1;32m    442\u001b[0m     \u001b[0;32mdef\u001b[0m \u001b[0mforward\u001b[0m\u001b[0;34m(\u001b[0m\u001b[0mself\u001b[0m\u001b[0;34m,\u001b[0m \u001b[0minput\u001b[0m\u001b[0;34m:\u001b[0m \u001b[0mTensor\u001b[0m\u001b[0;34m)\u001b[0m \u001b[0;34m->\u001b[0m \u001b[0mTensor\u001b[0m\u001b[0;34m:\u001b[0m\u001b[0;34m\u001b[0m\u001b[0;34m\u001b[0m\u001b[0m\n\u001b[0;32m--> 443\u001b[0;31m         \u001b[0;32mreturn\u001b[0m \u001b[0mself\u001b[0m\u001b[0;34m.\u001b[0m\u001b[0m_conv_forward\u001b[0m\u001b[0;34m(\u001b[0m\u001b[0minput\u001b[0m\u001b[0;34m,\u001b[0m \u001b[0mself\u001b[0m\u001b[0;34m.\u001b[0m\u001b[0mweight\u001b[0m\u001b[0;34m,\u001b[0m \u001b[0mself\u001b[0m\u001b[0;34m.\u001b[0m\u001b[0mbias\u001b[0m\u001b[0;34m)\u001b[0m\u001b[0;34m\u001b[0m\u001b[0;34m\u001b[0m\u001b[0m\n\u001b[0m\u001b[1;32m    444\u001b[0m \u001b[0;34m\u001b[0m\u001b[0m\n\u001b[1;32m    445\u001b[0m \u001b[0;32mclass\u001b[0m \u001b[0mConv3d\u001b[0m\u001b[0;34m(\u001b[0m\u001b[0m_ConvNd\u001b[0m\u001b[0;34m)\u001b[0m\u001b[0;34m:\u001b[0m\u001b[0;34m\u001b[0m\u001b[0;34m\u001b[0m\u001b[0m\n",
            "\u001b[0;32m/usr/local/lib/python3.7/dist-packages/torch/nn/modules/conv.py\u001b[0m in \u001b[0;36m_conv_forward\u001b[0;34m(self, input, weight, bias)\u001b[0m\n\u001b[1;32m    438\u001b[0m                             _pair(0), self.dilation, self.groups)\n\u001b[1;32m    439\u001b[0m         return F.conv2d(input, weight, bias, self.stride,\n\u001b[0;32m--> 440\u001b[0;31m                         self.padding, self.dilation, self.groups)\n\u001b[0m\u001b[1;32m    441\u001b[0m \u001b[0;34m\u001b[0m\u001b[0m\n\u001b[1;32m    442\u001b[0m     \u001b[0;32mdef\u001b[0m \u001b[0mforward\u001b[0m\u001b[0;34m(\u001b[0m\u001b[0mself\u001b[0m\u001b[0;34m,\u001b[0m \u001b[0minput\u001b[0m\u001b[0;34m:\u001b[0m \u001b[0mTensor\u001b[0m\u001b[0;34m)\u001b[0m \u001b[0;34m->\u001b[0m \u001b[0mTensor\u001b[0m\u001b[0;34m:\u001b[0m\u001b[0;34m\u001b[0m\u001b[0;34m\u001b[0m\u001b[0m\n",
            "\u001b[0;31mKeyboardInterrupt\u001b[0m: "
          ]
        }
      ]
    },
    {
      "cell_type": "code",
      "metadata": {
        "id": "Sy1Hl7FLVA2D"
      },
      "source": [
        "#数据处理\n",
        "from PIL import Image\n",
        "import numpy as np\n",
        "import os, re\n",
        "import matplotlib.pyplot as plt\n",
        "import torch.nn as nn\n",
        "import torch.utils.data as data\n",
        "from torch.optim import sgd, adam, adagrad, rmsprop, adadelta, adamax, adamw, sparse_adam, asgd"
      ],
      "execution_count": null,
      "outputs": []
    },
    {
      "cell_type": "code",
      "metadata": {
        "id": "w0TQwy4QVQPC"
      },
      "source": [
        "from torch.utils.data import Dataset, DataLoader\n",
        "from torchvision.datasets.folder import default_loader\n",
        "from torchvision import transforms\n",
        "import torch\n",
        "def get_img_names(path):\n",
        "  file_names = os.listdir(path)\n",
        "  img_names = []\n",
        "  for i in file_names:\n",
        "    if re.findall('\\d-\\d+\\.png', i) != []:\n",
        "      img_names.append([int(re.findall('^(.+?)-', i)[0]), int(re.findall('-(.+?)\\.', i)[0])])\n",
        "  return img_names\n",
        "class customData(Dataset):\n",
        "  def __init__(self, path, transform=None, target_transform=None, loader=default_loader):\n",
        "    super(customData, self).__init__()\n",
        "    self.dataset = [] #特征数据\n",
        "    self.labels = [] #标签数据\n",
        "    img = get_img_names(path)\n",
        "    img = np.array(img)\n",
        "    #n = int(img.shape[0] / 10) #得到每个数字的图片数\n",
        "\n",
        "    for name in img:\n",
        "      image = Image.open(path + '/%d-%d.png'%(name[0],name[1]))\n",
        "      image = image.resize((32, 32))\n",
        "      image = image.convert('B')\n",
        "\n",
        "      #判断黑底白底\n",
        "      rgb_start = image.getcolors()[0]\n",
        "      rgb_end  = image.getcolors()[-1]\n",
        "      rgb_start_color, rgb_end_color = rgb_start[1], rgb_end[1]\n",
        "      rgb_start_int, rgb_end_int = rgb_start[0], rgb_end[0]\n",
        "      if rgb_start_int > rgb_end_int:\n",
        "        if rgb_start_color == 0:\n",
        "          flag = True #白底黑字\n",
        "      else:\n",
        "        if rgb_start_color == 255:\n",
        "          flag = False #黑底白字\n",
        "\n",
        "      raw_data = img.load()\n",
        "      #降噪并转化为黑白\n",
        "      for y in range(image.size[1]):\n",
        "        for x in range(image.size[0]):\n",
        "          if raw_data[x, y] < 90 and flag:\n",
        "            raw_data[x, y] = 0\n",
        "          if raw_data[x, y] > 180 and not flag:\n",
        "            raw_data[x, y] = 255\n",
        "\n",
        "      img.save(path + '/%d-%d.png'%(name[0],name[1]))#保存图片\n",
        "      self.dataset.append(os.path.join(path,'/%d-%d.png'%(name[0],name[1])))\n",
        "      self.labels.append(name[0])\n",
        "    self.transform=transform\n",
        "    self.target_transform=target_transform\n",
        "    self.loader=loader\n",
        "  def __len__(self):\n",
        "    return len(self.dataset)\n",
        "  def __getitem__(self, index):\n",
        "    data = self.dataset[index]\n",
        "    img = self.transform(Image.open(data[0]))\n",
        "    label = self.labels[index]\n",
        "    return img,label"
      ],
      "execution_count": null,
      "outputs": []
    },
    {
      "cell_type": "code",
      "metadata": {
        "id": "ItXf8cLSv3ko"
      },
      "source": [
        "class Net(nn.Module):\n",
        "  def __init__(self):\n",
        "    super(Net, self).__init__()\n",
        "    self.layer1 = nn.Sequential(\n",
        "        nn.Conv2d(1, 6, kernel_size=(5, 5)),\n",
        "        nn.ReLU(),\n",
        "        nn.MaxPool2d(kernel_size=(2, 2), stride=2)\n",
        "    )\n",
        "    self.layer2 = nn.Sequential(\n",
        "        nn.Conv2d(6, 16, kernel_size=(5, 5)),\n",
        "        nn.ReLU(),\n",
        "        nn.MaxPool2d(kernel_size=(2, 2), stride=2)\n",
        "    )\n",
        "    self.layer3 = nn.Sequential(\n",
        "        nn.Conv2d(16, 120, kernel_size=(5, 5)),\n",
        "        nn.ReLU()\n",
        "    )\n",
        "    self.layer4 = nn.Sequential(\n",
        "        nn.Linear(120, 84),\n",
        "        nn.ReLU()\n",
        "    )\n",
        "    self.layer5 = nn.Sequential(\n",
        "        nn.Linear(84, 10),\n",
        "        nn.LogSoftmax(dim=-1)\n",
        "    )\n",
        "    def forward(self, x):\n",
        "      output = self.layer1(x)\n",
        "      x = self.layer2(output)\n",
        "      output = self.layer2(output)\n",
        "      output += x\n",
        "      output = self.layer3(output)\n",
        "      output = output.view(x.size(0), -1)\n",
        "      output = self.layer4(output)\n",
        "      output = self.layer5(output)\n",
        "      return output"
      ],
      "execution_count": null,
      "outputs": []
    },
    {
      "cell_type": "code",
      "metadata": {
        "id": "aLiP0PD_eIKc",
        "colab": {
          "base_uri": "https://localhost:8080/",
          "height": 485
        },
        "outputId": "a4b2b370-aff2-4dee-f043-69d1c8d267e3"
      },
      "source": [
        "#超参数\n",
        "BATCH_SIZE = 128\n",
        "EPOCHS = 10\n",
        "\n",
        "data_train = customData('./drive/MyDrive/train',transform=transforms.ToTensor())\n",
        "data_test = customData('./drive/MyDrive/test',transform=transforms.ToTensor())\n",
        "train_loader = data.DataLoader(data_train, BATCH_SIZE, shuffle=True)\n",
        "test_loader = data.DataLoader(data_test, BATCH_SIZE, shuffle=True)\n",
        "\n",
        "if torch.cuda.is_available():\n",
        "  device = torch.device(\"cuda\")\n",
        "else:\n",
        "  device = torch.device(\"cpu\")\n",
        "net = Net().to(device)\n",
        "\n",
        "loss_function = nn.MSELoss()\n",
        "criterion = nn.CrossEntropyLoss()\n",
        "optimizer = optim.Adam(net.parameters(), lr=2e-3)\n",
        "\n",
        "def train(epoch):\n",
        "  net.train()\n",
        "  loss_list, batch_list = [],[]\n",
        "  for i,(images, labels) in enumerate(train_loader):\n",
        "    optimizer.zero_grad()\n",
        "    output = net(images)\n",
        "    loss = criterion(output, labels)\n",
        "    loss_list.append(loss.detach().cpu().item())\n",
        "    batch_list.append(i+1)\n",
        "    loss.backward()\n",
        "    optimizer.step()\n",
        "def test():\n",
        "  net.eval()\n",
        "  total_correct = 0\n",
        "  avg_loss = 0.0\n",
        "  for i, (images, labels) in enumerate(data_test_loader):\n",
        "    output = net(images)\n",
        "    avg_loss += criterion(output, labels).sum()\n",
        "    pred = output.detach().max(1)[1]\n",
        "    total_correct += pred.eq(labels.view_as(pred)).sum()\n",
        "  avg_loss /= len(data_test)\n",
        ""
      ],
      "execution_count": null,
      "outputs": [
        {
          "output_type": "error",
          "ename": "ValueError",
          "evalue": "ignored",
          "traceback": [
            "\u001b[0;31m---------------------------------------------------------------------------\u001b[0m",
            "\u001b[0;31mValueError\u001b[0m                                Traceback (most recent call last)",
            "\u001b[0;32m/usr/local/lib/python3.7/dist-packages/PIL/Image.py\u001b[0m in \u001b[0;36mconvert\u001b[0;34m(self, mode, matrix, dither, palette, colors)\u001b[0m\n\u001b[1;32m   1022\u001b[0m         \u001b[0;32mtry\u001b[0m\u001b[0;34m:\u001b[0m\u001b[0;34m\u001b[0m\u001b[0;34m\u001b[0m\u001b[0m\n\u001b[0;32m-> 1023\u001b[0;31m             \u001b[0mim\u001b[0m \u001b[0;34m=\u001b[0m \u001b[0mself\u001b[0m\u001b[0;34m.\u001b[0m\u001b[0mim\u001b[0m\u001b[0;34m.\u001b[0m\u001b[0mconvert\u001b[0m\u001b[0;34m(\u001b[0m\u001b[0mmode\u001b[0m\u001b[0;34m,\u001b[0m \u001b[0mdither\u001b[0m\u001b[0;34m)\u001b[0m\u001b[0;34m\u001b[0m\u001b[0;34m\u001b[0m\u001b[0m\n\u001b[0m\u001b[1;32m   1024\u001b[0m         \u001b[0;32mexcept\u001b[0m \u001b[0mValueError\u001b[0m\u001b[0;34m:\u001b[0m\u001b[0;34m\u001b[0m\u001b[0;34m\u001b[0m\u001b[0m\n",
            "\u001b[0;31mValueError\u001b[0m: conversion from L to B not supported",
            "\nDuring handling of the above exception, another exception occurred:\n",
            "\u001b[0;31mValueError\u001b[0m                                Traceback (most recent call last)",
            "\u001b[0;32m<ipython-input-25-2cc289af795e>\u001b[0m in \u001b[0;36m<module>\u001b[0;34m()\u001b[0m\n\u001b[1;32m      4\u001b[0m \u001b[0;34m\u001b[0m\u001b[0m\n\u001b[1;32m      5\u001b[0m \u001b[0mdata_train\u001b[0m \u001b[0;34m=\u001b[0m \u001b[0mcustomData\u001b[0m\u001b[0;34m(\u001b[0m\u001b[0;34m'./drive/MyDrive/train'\u001b[0m\u001b[0;34m,\u001b[0m\u001b[0mtransform\u001b[0m\u001b[0;34m=\u001b[0m\u001b[0mtransforms\u001b[0m\u001b[0;34m.\u001b[0m\u001b[0mToTensor\u001b[0m\u001b[0;34m(\u001b[0m\u001b[0;34m)\u001b[0m\u001b[0;34m)\u001b[0m\u001b[0;34m\u001b[0m\u001b[0;34m\u001b[0m\u001b[0m\n\u001b[0;32m----> 6\u001b[0;31m \u001b[0mdata_test\u001b[0m \u001b[0;34m=\u001b[0m \u001b[0mcustomData\u001b[0m\u001b[0;34m(\u001b[0m\u001b[0;34m'./drive/MyDrive/test'\u001b[0m\u001b[0;34m,\u001b[0m\u001b[0mtransform\u001b[0m\u001b[0;34m=\u001b[0m\u001b[0mtransforms\u001b[0m\u001b[0;34m.\u001b[0m\u001b[0mToTensor\u001b[0m\u001b[0;34m(\u001b[0m\u001b[0;34m)\u001b[0m\u001b[0;34m)\u001b[0m\u001b[0;34m\u001b[0m\u001b[0;34m\u001b[0m\u001b[0m\n\u001b[0m\u001b[1;32m      7\u001b[0m \u001b[0mtrain_loader\u001b[0m \u001b[0;34m=\u001b[0m \u001b[0mdata\u001b[0m\u001b[0;34m.\u001b[0m\u001b[0mDataLoader\u001b[0m\u001b[0;34m(\u001b[0m\u001b[0mdata_train\u001b[0m\u001b[0;34m,\u001b[0m \u001b[0mBATCH_SIZE\u001b[0m\u001b[0;34m,\u001b[0m \u001b[0mshuffle\u001b[0m\u001b[0;34m=\u001b[0m\u001b[0;32mTrue\u001b[0m\u001b[0;34m)\u001b[0m\u001b[0;34m\u001b[0m\u001b[0;34m\u001b[0m\u001b[0m\n\u001b[1;32m      8\u001b[0m \u001b[0mtest_loader\u001b[0m \u001b[0;34m=\u001b[0m \u001b[0mdata\u001b[0m\u001b[0;34m.\u001b[0m\u001b[0mDataLoader\u001b[0m\u001b[0;34m(\u001b[0m\u001b[0mdata_test\u001b[0m\u001b[0;34m,\u001b[0m \u001b[0mBATCH_SIZE\u001b[0m\u001b[0;34m,\u001b[0m \u001b[0mshuffle\u001b[0m\u001b[0;34m=\u001b[0m\u001b[0;32mTrue\u001b[0m\u001b[0;34m)\u001b[0m\u001b[0;34m\u001b[0m\u001b[0;34m\u001b[0m\u001b[0m\n",
            "\u001b[0;32m<ipython-input-24-dda2c5cee3c7>\u001b[0m in \u001b[0;36m__init__\u001b[0;34m(self, path, transform, target_transform, loader)\u001b[0m\n\u001b[1;32m     22\u001b[0m       \u001b[0mimage\u001b[0m \u001b[0;34m=\u001b[0m \u001b[0mImage\u001b[0m\u001b[0;34m.\u001b[0m\u001b[0mopen\u001b[0m\u001b[0;34m(\u001b[0m\u001b[0mpath\u001b[0m \u001b[0;34m+\u001b[0m \u001b[0;34m'/%d-%d.png'\u001b[0m\u001b[0;34m%\u001b[0m\u001b[0;34m(\u001b[0m\u001b[0mname\u001b[0m\u001b[0;34m[\u001b[0m\u001b[0;36m0\u001b[0m\u001b[0;34m]\u001b[0m\u001b[0;34m,\u001b[0m\u001b[0mname\u001b[0m\u001b[0;34m[\u001b[0m\u001b[0;36m1\u001b[0m\u001b[0;34m]\u001b[0m\u001b[0;34m)\u001b[0m\u001b[0;34m)\u001b[0m\u001b[0;34m\u001b[0m\u001b[0;34m\u001b[0m\u001b[0m\n\u001b[1;32m     23\u001b[0m       \u001b[0mimage\u001b[0m \u001b[0;34m=\u001b[0m \u001b[0mimage\u001b[0m\u001b[0;34m.\u001b[0m\u001b[0mresize\u001b[0m\u001b[0;34m(\u001b[0m\u001b[0;34m(\u001b[0m\u001b[0;36m32\u001b[0m\u001b[0;34m,\u001b[0m \u001b[0;36m32\u001b[0m\u001b[0;34m)\u001b[0m\u001b[0;34m)\u001b[0m\u001b[0;34m\u001b[0m\u001b[0;34m\u001b[0m\u001b[0m\n\u001b[0;32m---> 24\u001b[0;31m       \u001b[0mimage\u001b[0m \u001b[0;34m=\u001b[0m \u001b[0mimage\u001b[0m\u001b[0;34m.\u001b[0m\u001b[0mconvert\u001b[0m\u001b[0;34m(\u001b[0m\u001b[0;34m'B'\u001b[0m\u001b[0;34m)\u001b[0m\u001b[0;34m\u001b[0m\u001b[0;34m\u001b[0m\u001b[0m\n\u001b[0m\u001b[1;32m     25\u001b[0m \u001b[0;34m\u001b[0m\u001b[0m\n\u001b[1;32m     26\u001b[0m       \u001b[0;31m#判断黑底白底\u001b[0m\u001b[0;34m\u001b[0m\u001b[0;34m\u001b[0m\u001b[0;34m\u001b[0m\u001b[0m\n",
            "\u001b[0;32m/usr/local/lib/python3.7/dist-packages/PIL/Image.py\u001b[0m in \u001b[0;36mconvert\u001b[0;34m(self, mode, matrix, dither, palette, colors)\u001b[0m\n\u001b[1;32m   1026\u001b[0m                 \u001b[0;31m# normalize source image and try again\u001b[0m\u001b[0;34m\u001b[0m\u001b[0;34m\u001b[0m\u001b[0;34m\u001b[0m\u001b[0m\n\u001b[1;32m   1027\u001b[0m                 \u001b[0mim\u001b[0m \u001b[0;34m=\u001b[0m \u001b[0mself\u001b[0m\u001b[0;34m.\u001b[0m\u001b[0mim\u001b[0m\u001b[0;34m.\u001b[0m\u001b[0mconvert\u001b[0m\u001b[0;34m(\u001b[0m\u001b[0mgetmodebase\u001b[0m\u001b[0;34m(\u001b[0m\u001b[0mself\u001b[0m\u001b[0;34m.\u001b[0m\u001b[0mmode\u001b[0m\u001b[0;34m)\u001b[0m\u001b[0;34m)\u001b[0m\u001b[0;34m\u001b[0m\u001b[0;34m\u001b[0m\u001b[0m\n\u001b[0;32m-> 1028\u001b[0;31m                 \u001b[0mim\u001b[0m \u001b[0;34m=\u001b[0m \u001b[0mim\u001b[0m\u001b[0;34m.\u001b[0m\u001b[0mconvert\u001b[0m\u001b[0;34m(\u001b[0m\u001b[0mmode\u001b[0m\u001b[0;34m,\u001b[0m \u001b[0mdither\u001b[0m\u001b[0;34m)\u001b[0m\u001b[0;34m\u001b[0m\u001b[0;34m\u001b[0m\u001b[0m\n\u001b[0m\u001b[1;32m   1029\u001b[0m             \u001b[0;32mexcept\u001b[0m \u001b[0mKeyError\u001b[0m\u001b[0;34m:\u001b[0m\u001b[0;34m\u001b[0m\u001b[0;34m\u001b[0m\u001b[0m\n\u001b[1;32m   1030\u001b[0m                 \u001b[0;32mraise\u001b[0m \u001b[0mValueError\u001b[0m\u001b[0;34m(\u001b[0m\u001b[0;34m\"illegal conversion\"\u001b[0m\u001b[0;34m)\u001b[0m\u001b[0;34m\u001b[0m\u001b[0;34m\u001b[0m\u001b[0m\n",
            "\u001b[0;31mValueError\u001b[0m: conversion from L to B not supported"
          ]
        }
      ]
    }
  ]
}